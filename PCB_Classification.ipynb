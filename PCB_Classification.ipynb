{
  "nbformat": 4,
  "nbformat_minor": 0,
  "metadata": {
    "colab": {
      "name": "PCB_Classification.ipynb",
      "provenance": [],
      "collapsed_sections": [],
      "toc_visible": true,
      "machine_shape": "hm"
    },
    "kernelspec": {
      "name": "python3",
      "display_name": "Python 3"
    },
    "accelerator": "GPU"
  },
  "cells": [
    {
      "cell_type": "code",
      "metadata": {
        "id": "aVmS8oe4pLrA",
        "colab_type": "code",
        "outputId": "748d0011-263a-488d-c78a-dbbb328b3b34",
        "colab": {
          "base_uri": "https://localhost:8080/",
          "height": 54
        }
      },
      "source": [
        "from google.colab import drive\n",
        "drive.mount('/content/drive')"
      ],
      "execution_count": 1,
      "outputs": [
        {
          "output_type": "stream",
          "text": [
            "Drive already mounted at /content/drive; to attempt to forcibly remount, call drive.mount(\"/content/drive\", force_remount=True).\n"
          ],
          "name": "stdout"
        }
      ]
    },
    {
      "cell_type": "code",
      "metadata": {
        "id": "2mqqCG0qpso0",
        "colab_type": "code",
        "colab": {
          "base_uri": "https://localhost:8080/",
          "height": 34
        },
        "outputId": "2d98e4f7-79f0-442d-c67a-b3cd57f747ca"
      },
      "source": [
        "import numpy as np\n",
        "import pandas as pd\n",
        "from sklearn.model_selection import train_test_split\n",
        "\n",
        "import tensorflow as tf\n",
        "from keras.preprocessing.image import ImageDataGenerator\n",
        "\n",
        "%matplotlib inline\n",
        "from sklearn.metrics import confusion_matrix\n",
        "import itertools\n",
        "import matplotlib.pyplot as plt"
      ],
      "execution_count": 2,
      "outputs": [
        {
          "output_type": "stream",
          "text": [
            "Using TensorFlow backend.\n"
          ],
          "name": "stderr"
        }
      ]
    },
    {
      "cell_type": "code",
      "metadata": {
        "id": "NgW26azrpfnj",
        "colab_type": "code",
        "colab": {
          "base_uri": "https://localhost:8080/",
          "height": 51
        },
        "outputId": "0cb423cf-4342-4670-9b69-f2276f3b6c8d"
      },
      "source": [
        "from tensorflow.keras import Sequential\n",
        "print(tf.test.gpu_device_name())\n",
        "\n",
        "import os\n",
        "if 'COLAB_TPU_ADDR' not in os.environ:\n",
        "    print('Not connected');\n",
        "else:\n",
        "    print('Connected')"
      ],
      "execution_count": 3,
      "outputs": [
        {
          "output_type": "stream",
          "text": [
            "/device:GPU:0\n",
            "Not connected\n"
          ],
          "name": "stdout"
        }
      ]
    },
    {
      "cell_type": "code",
      "metadata": {
        "id": "pSOtnqHOr9ou",
        "colab_type": "code",
        "colab": {}
      },
      "source": [
        "import numpy as np\n",
        "import pandas as pd\n",
        "from sklearn.model_selection import train_test_split\n",
        "\n",
        "import tensorflow as tf"
      ],
      "execution_count": 0,
      "outputs": []
    },
    {
      "cell_type": "code",
      "metadata": {
        "colab_type": "code",
        "id": "86wriHAOxL7z",
        "colab": {}
      },
      "source": [
        "XTrain = np.load('drive/My Drive/classification data/Aug_PCB/s_x_train.npy')\n",
        "YTrain = np.load('drive/My Drive/classification data/Aug_PCB/s_y_train.npy')"
      ],
      "execution_count": 0,
      "outputs": []
    },
    {
      "cell_type": "code",
      "metadata": {
        "id": "dFKvm3qYpNq5",
        "colab_type": "code",
        "colab": {}
      },
      "source": [
        "raw_xtrain = np.load('drive/My Drive/classification data/Raw_PCB/s_x_train.npy')\n",
        "raw_ytrain = np.load('drive/My Drive/classification data/Raw_PCB/s_y_train.npy')"
      ],
      "execution_count": 0,
      "outputs": []
    },
    {
      "cell_type": "code",
      "metadata": {
        "id": "uMkYtHPfGnAv",
        "colab_type": "code",
        "colab": {}
      },
      "source": [
        "bal_xtrain = np.load('drive/My Drive/classification data/Balanced_PCB/xtrain.npy')\n",
        "bal_ytrain = np.load('drive/My Drive/classification data/Balanced_PCB/ytrain.npy')"
      ],
      "execution_count": 0,
      "outputs": []
    },
    {
      "cell_type": "code",
      "metadata": {
        "id": "N-jk8B62pOnw",
        "colab_type": "code",
        "colab": {}
      },
      "source": [
        "raw_xtrain = raw_xtrain/255"
      ],
      "execution_count": 0,
      "outputs": []
    },
    {
      "cell_type": "code",
      "metadata": {
        "id": "GgCXbe1HG1vC",
        "colab_type": "code",
        "colab": {}
      },
      "source": [
        "bal_xtrain = bal_xtrain/255"
      ],
      "execution_count": 0,
      "outputs": []
    },
    {
      "cell_type": "code",
      "metadata": {
        "id": "oAXbFxh-JDeB",
        "colab_type": "code",
        "colab": {
          "base_uri": "https://localhost:8080/",
          "height": 34
        },
        "outputId": "13bc483e-3800-49a8-d619-eb7b4711e726"
      },
      "source": [
        "raw_ytrain.astype(int)"
      ],
      "execution_count": 10,
      "outputs": [
        {
          "output_type": "execute_result",
          "data": {
            "text/plain": [
              "array([0, 0, 0, ..., 1, 1, 1])"
            ]
          },
          "metadata": {
            "tags": []
          },
          "execution_count": 10
        }
      ]
    },
    {
      "cell_type": "code",
      "metadata": {
        "id": "v24eB-2IIyKh",
        "colab_type": "code",
        "colab": {
          "base_uri": "https://localhost:8080/",
          "height": 255
        },
        "outputId": "30ebbae7-21a6-40cd-c61b-9f0c02b732c8"
      },
      "source": [
        "bal_ytrain.astype(int)"
      ],
      "execution_count": 11,
      "outputs": [
        {
          "output_type": "execute_result",
          "data": {
            "text/plain": [
              "array([0, 0, 0, 0, 0, 0, 0, 0, 0, 0, 0, 0, 0, 0, 0, 0, 0, 0, 0, 0, 0, 0,\n",
              "       0, 0, 0, 0, 0, 0, 0, 0, 0, 0, 0, 0, 0, 0, 0, 0, 0, 0, 0, 0, 0, 0,\n",
              "       0, 0, 0, 0, 0, 0, 0, 0, 0, 0, 0, 0, 0, 0, 0, 0, 0, 0, 0, 0, 0, 0,\n",
              "       0, 0, 0, 0, 0, 0, 0, 0, 0, 0, 0, 0, 0, 0, 0, 0, 0, 0, 0, 0, 0, 0,\n",
              "       0, 0, 0, 0, 0, 0, 0, 0, 0, 0, 0, 0, 0, 0, 0, 0, 0, 0, 0, 0, 0, 0,\n",
              "       0, 0, 0, 0, 0, 0, 0, 0, 0, 0, 0, 0, 0, 0, 0, 0, 0, 0, 0, 0, 0, 0,\n",
              "       0, 0, 0, 0, 0, 0, 0, 0, 0, 0, 0, 0, 0, 0, 0, 0, 0, 1, 1, 1, 1, 1,\n",
              "       1, 1, 1, 1, 1, 1, 1, 1, 1, 1, 1, 1, 1, 1, 1, 1, 1, 1, 1, 1, 1, 1,\n",
              "       1, 1, 1, 1, 1, 1, 1, 1, 1, 1, 1, 1, 1, 1, 1, 1, 1, 1, 1, 1, 1, 1,\n",
              "       1, 1, 1, 1, 1, 1, 1, 1, 1, 1, 1, 1, 1, 1, 1, 1, 1, 1, 1, 1, 1, 1,\n",
              "       1, 1, 1, 1, 1, 1, 1, 1, 1, 1, 1, 1, 1, 1, 1, 1, 1, 1, 1, 1, 1, 1,\n",
              "       1, 1, 1, 1, 1, 1, 1, 1, 1, 1, 1, 1, 1, 1, 1, 1, 1, 1, 1, 1, 1, 1,\n",
              "       1, 1, 1, 1, 1, 1, 1, 1, 1, 1, 1, 1, 1, 1, 1, 1, 1, 1, 1, 1, 1, 1,\n",
              "       1, 1, 1, 1, 1, 1, 1, 1, 1, 1, 1, 1])"
            ]
          },
          "metadata": {
            "tags": []
          },
          "execution_count": 11
        }
      ]
    },
    {
      "cell_type": "code",
      "metadata": {
        "id": "C5YKsISh3cE_",
        "colab_type": "code",
        "colab": {}
      },
      "source": [
        "XTrain, XTest, YTrain, YTest = train_test_split(XTrain, YTrain, test_size=0.1)\n"
      ],
      "execution_count": 0,
      "outputs": []
    },
    {
      "cell_type": "code",
      "metadata": {
        "id": "ellP4Tv17cUK",
        "colab_type": "code",
        "colab": {
          "base_uri": "https://localhost:8080/",
          "height": 408
        },
        "outputId": "12ccad17-6b0c-4851-a87a-fffd9e115f29"
      },
      "source": [
        "YTrain.astype(int)\n",
        "YTest.astype(int)"
      ],
      "execution_count": 13,
      "outputs": [
        {
          "output_type": "execute_result",
          "data": {
            "text/plain": [
              "array([1, 0, 0, 0, 1, 0, 0, 0, 1, 1, 1, 0, 1, 0, 0, 0, 0, 1, 1, 0, 0, 0,\n",
              "       1, 0, 1, 0, 1, 0, 0, 1, 0, 1, 1, 1, 1, 1, 0, 0, 1, 1, 1, 0, 0, 1,\n",
              "       1, 0, 1, 0, 1, 0, 0, 0, 1, 0, 1, 0, 1, 0, 1, 1, 1, 1, 0, 1, 1, 0,\n",
              "       0, 0, 1, 0, 0, 0, 0, 0, 1, 1, 1, 1, 0, 1, 1, 1, 0, 0, 0, 0, 1, 0,\n",
              "       1, 0, 0, 1, 0, 1, 0, 1, 0, 1, 1, 1, 0, 0, 0, 1, 1, 1, 0, 1, 0, 0,\n",
              "       0, 1, 1, 0, 1, 1, 0, 1, 1, 0, 0, 1, 0, 0, 0, 1, 1, 0, 1, 1, 0, 0,\n",
              "       0, 1, 0, 0, 0, 0, 1, 0, 0, 1, 0, 0, 1, 0, 0, 1, 1, 0, 1, 1, 1, 1,\n",
              "       0, 1, 0, 1, 0, 0, 1, 1, 0, 0, 0, 0, 0, 0, 0, 1, 1, 0, 1, 0, 1, 1,\n",
              "       0, 1, 0, 1, 0, 0, 1, 1, 1, 1, 0, 1, 0, 0, 1, 1, 1, 0, 1, 0, 1, 0,\n",
              "       1, 1, 0, 1, 1, 0, 1, 0, 0, 0, 0, 0, 0, 0, 0, 0, 0, 1, 1, 1, 0, 1,\n",
              "       0, 0, 1, 0, 1, 1, 0, 0, 0, 1, 1, 1, 1, 0, 1, 1, 1, 1, 0, 0, 0, 0,\n",
              "       1, 0, 1, 1, 0, 1, 0, 1, 1, 1, 0, 0, 0, 0, 1, 0, 0, 0, 1, 0, 0, 1,\n",
              "       0, 1, 0, 1, 1, 1, 0, 0, 0, 1, 1, 0, 1, 0, 1, 1, 0, 0, 0, 0, 0, 1,\n",
              "       1, 0, 1, 1, 0, 1, 1, 0, 1, 0, 0, 1, 0, 0, 1, 1, 1, 0, 0, 0, 1, 0,\n",
              "       1, 1, 0, 1, 1, 1, 1, 0, 0, 0, 1, 0, 1, 1, 1, 1, 0, 1, 0, 1, 1, 1,\n",
              "       0, 1, 0, 0, 1, 0, 0, 1, 0, 1, 0, 1, 0, 1, 0, 0, 0, 0, 1, 1, 1, 0,\n",
              "       1, 1, 1, 1, 1, 1, 1, 0, 1, 1, 0, 1, 1, 1, 0, 1, 0, 1, 1, 0, 0, 1,\n",
              "       0, 0, 0, 1, 1, 1, 1, 0, 0, 1, 1, 1, 0, 1, 0, 1, 0, 0, 1, 1, 1, 1,\n",
              "       1, 0, 1, 0, 1, 0, 0, 0, 1, 1, 1, 0, 0, 1, 0, 1, 1, 0, 0, 1, 1, 1,\n",
              "       1, 1, 0, 0, 0, 1, 1, 1, 1, 1, 1, 0, 0, 1, 1, 0, 1, 1, 1, 0, 1, 0,\n",
              "       0, 0, 0, 0, 1, 0, 0, 1, 1, 1, 0, 1, 1, 0, 0, 0, 1, 1, 0, 1, 0, 1,\n",
              "       1, 1, 0, 1, 1, 1, 1, 0, 1, 1, 0, 0, 0, 1, 1, 0, 1, 0, 1, 0, 1, 0,\n",
              "       0, 0, 1, 1, 1, 0, 0, 0, 1, 1, 0, 0, 0, 1, 1, 1, 0, 1, 1, 0])"
            ]
          },
          "metadata": {
            "tags": []
          },
          "execution_count": 13
        }
      ]
    },
    {
      "cell_type": "code",
      "metadata": {
        "id": "A1Ups-AwM1wU",
        "colab_type": "code",
        "outputId": "d309d61f-6e94-40b6-a229-664c04e0a7a3",
        "colab": {
          "base_uri": "https://localhost:8080/",
          "height": 68
        }
      },
      "source": [
        "print(\"Installing dependencies for Colab environment\")\n",
        "!pip install -Uq grpcio==1.26.0\n",
        "\n",
        "print('Installing TensorFlow')\n",
        "try:\n",
        "  %tensorflow_version 2.x\n",
        "except Exception:\n",
        "  pass\n",
        "import tensorflow as tf\n",
        "from tensorflow import keras\n",
        "\n",
        "import numpy as np\n",
        "import matplotlib.pyplot as plt\n",
        "import os\n",
        "import subprocess\n",
        "\n",
        "print('TensorFlow version: {}'.format(tf.__version__))"
      ],
      "execution_count": 14,
      "outputs": [
        {
          "output_type": "stream",
          "text": [
            "Installing dependencies for Colab environment\n",
            "Installing TensorFlow\n",
            "TensorFlow version: 2.2.0-rc2\n"
          ],
          "name": "stdout"
        }
      ]
    },
    {
      "cell_type": "code",
      "metadata": {
        "id": "Tyc2bMVaNJGr",
        "colab_type": "code",
        "outputId": "6e44ff7c-4c33-4856-d2c1-abf35e22605c",
        "colab": {
          "base_uri": "https://localhost:8080/",
          "height": 1000
        }
      },
      "source": [
        "model = keras.Sequential([\n",
        "keras.layers.Conv2D(20, (5,5), input_shape=(300,300,3), activation='relu', padding='same'),\n",
        "keras.layers.MaxPooling2D(pool_size=(2,2), strides=(2,2)),\n",
        "keras.layers.Conv2D(50, (5,5), activation='relu', padding='same'),\n",
        "keras.layers.MaxPooling2D(pool_size=(2,2), strides=(2,2)),\n",
        "keras.layers.Flatten(),\n",
        "keras.layers.Dense(300, activation='relu'),\n",
        "keras.layers.Dense(2, activation='softmax')\n",
        "])\n",
        "\n",
        "model.summary()\n",
        " \n",
        "testing=False\n",
        "\n",
        "model.compile(optimizer='adam', \n",
        "              loss='sparse_categorical_crossentropy',\n",
        "              metrics=['accuracy'])\n",
        "model.fit(XTrain, YTrain, batch_size=10, epochs=20)\n",
        "\n",
        "test_loss, test_acc = model.evaluate(XTest, YTest)\n",
        "print('\\nTest accuracy: {}'.format(test_acc))\n"
      ],
      "execution_count": 15,
      "outputs": [
        {
          "output_type": "stream",
          "text": [
            "Model: \"sequential\"\n",
            "_________________________________________________________________\n",
            "Layer (type)                 Output Shape              Param #   \n",
            "=================================================================\n",
            "conv2d (Conv2D)              (None, 300, 300, 20)      1520      \n",
            "_________________________________________________________________\n",
            "max_pooling2d (MaxPooling2D) (None, 150, 150, 20)      0         \n",
            "_________________________________________________________________\n",
            "conv2d_1 (Conv2D)            (None, 150, 150, 50)      25050     \n",
            "_________________________________________________________________\n",
            "max_pooling2d_1 (MaxPooling2 (None, 75, 75, 50)        0         \n",
            "_________________________________________________________________\n",
            "flatten (Flatten)            (None, 281250)            0         \n",
            "_________________________________________________________________\n",
            "dense (Dense)                (None, 300)               84375300  \n",
            "_________________________________________________________________\n",
            "dense_1 (Dense)              (None, 2)                 602       \n",
            "=================================================================\n",
            "Total params: 84,402,472\n",
            "Trainable params: 84,402,472\n",
            "Non-trainable params: 0\n",
            "_________________________________________________________________\n",
            "Epoch 1/20\n",
            "454/454 [==============================] - 52s 114ms/step - loss: 0.3951 - accuracy: 0.8629\n",
            "Epoch 2/20\n",
            "454/454 [==============================] - 51s 113ms/step - loss: 0.1524 - accuracy: 0.9411\n",
            "Epoch 3/20\n",
            "454/454 [==============================] - 51s 112ms/step - loss: 0.0964 - accuracy: 0.9660\n",
            "Epoch 4/20\n",
            "454/454 [==============================] - 51s 112ms/step - loss: 0.0550 - accuracy: 0.9810\n",
            "Epoch 5/20\n",
            "454/454 [==============================] - 51s 112ms/step - loss: 0.0821 - accuracy: 0.9762\n",
            "Epoch 6/20\n",
            "454/454 [==============================] - 51s 112ms/step - loss: 0.0483 - accuracy: 0.9841\n",
            "Epoch 7/20\n",
            "454/454 [==============================] - 51s 112ms/step - loss: 0.0180 - accuracy: 0.9945\n",
            "Epoch 8/20\n",
            "454/454 [==============================] - 51s 112ms/step - loss: 0.0144 - accuracy: 0.9954\n",
            "Epoch 9/20\n",
            "454/454 [==============================] - 51s 112ms/step - loss: 0.0411 - accuracy: 0.9894\n",
            "Epoch 10/20\n",
            "454/454 [==============================] - 51s 112ms/step - loss: 0.0524 - accuracy: 0.9929\n",
            "Epoch 11/20\n",
            "454/454 [==============================] - 51s 112ms/step - loss: 0.0191 - accuracy: 0.9947\n",
            "Epoch 12/20\n",
            "454/454 [==============================] - 51s 112ms/step - loss: 0.0099 - accuracy: 0.9969\n",
            "Epoch 13/20\n",
            "454/454 [==============================] - 51s 112ms/step - loss: 0.0056 - accuracy: 0.9978\n",
            "Epoch 14/20\n",
            "454/454 [==============================] - 51s 112ms/step - loss: 0.0037 - accuracy: 0.9989\n",
            "Epoch 15/20\n",
            "454/454 [==============================] - 51s 112ms/step - loss: 0.0013 - accuracy: 0.9998\n",
            "Epoch 16/20\n",
            "454/454 [==============================] - 51s 112ms/step - loss: 0.0114 - accuracy: 0.9958\n",
            "Epoch 17/20\n",
            "454/454 [==============================] - 51s 112ms/step - loss: 0.0560 - accuracy: 0.9883\n",
            "Epoch 18/20\n",
            "454/454 [==============================] - 51s 112ms/step - loss: 0.0101 - accuracy: 0.9969\n",
            "Epoch 19/20\n",
            "454/454 [==============================] - 51s 112ms/step - loss: 0.0343 - accuracy: 0.9918\n",
            "Epoch 20/20\n",
            "454/454 [==============================] - 51s 112ms/step - loss: 0.0085 - accuracy: 0.9982\n",
            "16/16 [==============================] - 1s 84ms/step - loss: 0.5483 - accuracy: 0.9683\n",
            "\n",
            "Test accuracy: 0.9682539701461792\n"
          ],
          "name": "stdout"
        }
      ]
    },
    {
      "cell_type": "code",
      "metadata": {
        "id": "mpxC4cPS6ebN",
        "colab_type": "code",
        "outputId": "53925d0a-3eb0-4455-e1d7-0fb3b4d3394a",
        "colab": {
          "base_uri": "https://localhost:8080/",
          "height": 88
        }
      },
      "source": [
        "rounded_prediction = model.predict_classes(XTest, verbose=0)"
      ],
      "execution_count": 16,
      "outputs": [
        {
          "output_type": "stream",
          "text": [
            "WARNING:tensorflow:From <ipython-input-16-77b281e706f8>:1: Sequential.predict_classes (from tensorflow.python.keras.engine.sequential) is deprecated and will be removed after 2021-01-01.\n",
            "Instructions for updating:\n",
            "Please use instead:* `np.argmax(model.predict(x), axis=-1)`,   if your model does multi-class classification   (e.g. if it uses a `softmax` last-layer activation).* `(model.predict(x) > 0.5).astype(\"int32\")`,   if your model does binary classification   (e.g. if it uses a `sigmoid` last-layer activation).\n"
          ],
          "name": "stdout"
        }
      ]
    },
    {
      "cell_type": "code",
      "metadata": {
        "id": "F-REoJVXKjPd",
        "colab_type": "code",
        "colab": {}
      },
      "source": [
        "%matplotlib inline\n",
        "from sklearn.metrics import confusion_matrix\n",
        "import itertools\n",
        "import matplotlib.pyplot as plt"
      ],
      "execution_count": 0,
      "outputs": []
    },
    {
      "cell_type": "code",
      "metadata": {
        "id": "JW39cbYmK9fr",
        "colab_type": "code",
        "colab": {}
      },
      "source": [
        "cm = confusion_matrix(YTest, rounded_prediction)"
      ],
      "execution_count": 0,
      "outputs": []
    },
    {
      "cell_type": "code",
      "metadata": {
        "id": "SgB5Wv30KZ1X",
        "colab_type": "code",
        "colab": {}
      },
      "source": [
        "def plot_confusion_matrix(cm, classes,\n",
        "                          normalize=False,\n",
        "                          title='Confusion matrix',\n",
        "                          cmap=plt.cm.Blues):\n",
        "    \"\"\"\n",
        "    This function prints and plots the confusion matrix.\n",
        "    Normalization can be applied by setting `normalize=True`.\n",
        "    \"\"\"\n",
        "    plt.imshow(cm, interpolation='nearest', cmap=cmap)\n",
        "    plt.title(title)\n",
        "    plt.colorbar()\n",
        "    tick_marks = np.arange(len(classes))\n",
        "    plt.xticks(tick_marks, classes, rotation=45)\n",
        "    plt.yticks(tick_marks, classes)\n",
        "\n",
        "    if normalize:\n",
        "        cm = cm.astype('float') / cm.sum(axis=1)[:, np.newaxis]\n",
        "        print(\"Normalized confusion matrix\")\n",
        "    else:\n",
        "        print('Confusion matrix, without normalization')\n",
        "\n",
        "    print(cm)\n",
        "\n",
        "    thresh = cm.max() / 2.\n",
        "    for i, j in itertools.product(range(cm.shape[0]), range(cm.shape[1])):\n",
        "        plt.text(j, i, cm[i, j],\n",
        "                 horizontalalignment=\"center\",\n",
        "                 color=\"white\" if cm[i, j] > thresh else \"black\")\n",
        "\n",
        "    plt.tight_layout()\n",
        "    plt.ylabel('True label')\n",
        "    plt.xlabel('Predicted label')"
      ],
      "execution_count": 0,
      "outputs": []
    },
    {
      "cell_type": "code",
      "metadata": {
        "id": "AngQsClfLLcM",
        "colab_type": "code",
        "outputId": "bd0230ab-4de9-41cc-a918-05051f8079eb",
        "colab": {
          "base_uri": "https://localhost:8080/",
          "height": 362
        }
      },
      "source": [
        "cm_plot_labels = [\"Defective\", \"Non-Defective\"]\n",
        "plot_confusion_matrix(cm, cm_plot_labels, title=\"Confusion Matrix\")"
      ],
      "execution_count": 20,
      "outputs": [
        {
          "output_type": "stream",
          "text": [
            "Confusion matrix, without normalization\n",
            "[[242   4]\n",
            " [ 12 246]]\n"
          ],
          "name": "stdout"
        },
        {
          "output_type": "display_data",
          "data": {
            "image/png": "[encoded data removed]",
            "text/plain": [
              "<Figure size 432x288 with 2 Axes>"
            ]
          },
          "metadata": {
            "tags": []
          }
        }
      ]
    },
    {
      "cell_type": "code",
      "metadata": {
        "id": "bifypqiXvafT",
        "colab_type": "code",
        "colab": {}
      },
      "source": [
        "raw_rounded_prediction = model.predict_classes(raw_xtrain, verbose=0)"
      ],
      "execution_count": 0,
      "outputs": []
    },
    {
      "cell_type": "code",
      "metadata": {
        "id": "pc6bF3BQvfkS",
        "colab_type": "code",
        "colab": {
          "base_uri": "https://localhost:8080/",
          "height": 362
        },
        "outputId": "00c33785-1e39-4adb-afb4-4b06341bbfec"
      },
      "source": [
        "raw_cm = confusion_matrix(raw_ytrain, raw_rounded_prediction)\n",
        "raw_cm_plot_labels = [\"Defective\", \"Non-Defective\"]\n",
        "plot_confusion_matrix(raw_cm, raw_cm_plot_labels, title=\"Raw Confusion Matrix\")"
      ],
      "execution_count": 22,
      "outputs": [
        {
          "output_type": "stream",
          "text": [
            "Confusion matrix, without normalization\n",
            "[[ 143    6]\n",
            " [  15 2505]]\n"
          ],
          "name": "stdout"
        },
        {
          "output_type": "display_data",
          "data": {
            "image/png": "[encoded data removed]",
            "text/plain": [
              "<Figure size 432x288 with 2 Axes>"
            ]
          },
          "metadata": {
            "tags": []
          }
        }
      ]
    },
    {
      "cell_type": "code",
      "metadata": {
        "id": "eNnDgRAcvnE1",
        "colab_type": "code",
        "colab": {
          "base_uri": "https://localhost:8080/",
          "height": 68
        },
        "outputId": "04fa55f4-adae-4c9e-cd8f-1ac7a19d0724"
      },
      "source": [
        "test_loss, test_acc = model.evaluate(raw_xtrain, raw_ytrain)\n",
        "print('\\nTest accuracy: {}'.format(test_acc))"
      ],
      "execution_count": 23,
      "outputs": [
        {
          "output_type": "stream",
          "text": [
            "84/84 [==============================] - 6s 67ms/step - loss: 0.0868 - accuracy: 0.9921\n",
            "\n",
            "Test accuracy: 0.9921318888664246\n"
          ],
          "name": "stdout"
        }
      ]
    },
    {
      "cell_type": "code",
      "metadata": {
        "id": "x4ajpFwMHDEN",
        "colab_type": "code",
        "colab": {}
      },
      "source": [
        "bal_rounded_prediction = model.predict_classes(bal_xtrain, verbose=0)"
      ],
      "execution_count": 0,
      "outputs": []
    },
    {
      "cell_type": "code",
      "metadata": {
        "id": "HJ3sen-THE5i",
        "colab_type": "code",
        "colab": {
          "base_uri": "https://localhost:8080/",
          "height": 362
        },
        "outputId": "512dae36-99c0-45ea-e73f-da39e367a76a"
      },
      "source": [
        "bal_cm = confusion_matrix(bal_ytrain, bal_rounded_prediction)\n",
        "bal_cm_plot_labels = [\"Defective\", \"Non-Defective\"]\n",
        "plot_confusion_matrix(bal_cm, bal_cm_plot_labels, title=\"Balanced Confusion Matrix\")"
      ],
      "execution_count": 25,
      "outputs": [
        {
          "output_type": "stream",
          "text": [
            "Confusion matrix, without normalization\n",
            "[[143   6]\n",
            " [  2 147]]\n"
          ],
          "name": "stdout"
        },
        {
          "output_type": "display_data",
          "data": {
            "image/png": "[encoded data removed]",
            "text/plain": [
              "<Figure size 432x288 with 2 Axes>"
            ]
          },
          "metadata": {
            "tags": []
          }
        }
      ]
    },
    {
      "cell_type": "code",
      "metadata": {
        "id": "dRYOdGviHF1-",
        "colab_type": "code",
        "colab": {
          "base_uri": "https://localhost:8080/",
          "height": 68
        },
        "outputId": "1e6dfafd-d97a-4f52-baff-5896094ebd24"
      },
      "source": [
        "test_loss, test_acc = model.evaluate(bal_xtrain, bal_ytrain)\n",
        "print('\\nTest accuracy: {}'.format(test_acc))"
      ],
      "execution_count": 26,
      "outputs": [
        {
          "output_type": "stream",
          "text": [
            "10/10 [==============================] - 1s 57ms/step - loss: 0.1453 - accuracy: 0.9732\n",
            "\n",
            "Test accuracy: 0.9731543660163879\n"
          ],
          "name": "stdout"
        }
      ]
    }
  ]
}