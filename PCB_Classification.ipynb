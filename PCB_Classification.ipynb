{
  "nbformat": 4,
  "nbformat_minor": 0,
  "metadata": {
    "colab": {
      "name": "Balanced_PCB_Model.ipynb",
      "provenance": [],
      "collapsed_sections": [],
      "toc_visible": true,
      "machine_shape": "hm"
    },
    "kernelspec": {
      "name": "python3",
      "display_name": "Python 3"
    },
    "accelerator": "GPU"
  },
  "cells": [
    {
      "cell_type": "code",
      "metadata": {
        "id": "aVmS8oe4pLrA",
        "colab_type": "code",
        "outputId": "04c55a8a-ffff-40df-beb1-fb46990adeae",
        "colab": {
          "base_uri": "https://localhost:8080/",
          "height": 54
        }
      },
      "source": [
        "# set Tensorflow version\n",
        "# %tensorflow_version 2.x\n",
        "\n",
        "from google.colab import drive\n",
        "drive.mount('/content/drive')"
      ],
      "execution_count": 1,
      "outputs": [
        {
          "output_type": "stream",
          "text": [
            "Drive already mounted at /content/drive; to attempt to forcibly remount, call drive.mount(\"/content/drive\", force_remount=True).\n"
          ],
          "name": "stdout"
        }
      ]
    },
    {
      "cell_type": "code",
      "metadata": {
        "id": "2mqqCG0qpso0",
        "colab_type": "code",
        "colab": {
          "base_uri": "https://localhost:8080/",
          "height": 34
        },
        "outputId": "f727988b-c917-4003-a709-970cd7b0318d"
      },
      "source": [
        "import numpy as np\n",
        "import pandas as pd\n",
        "from sklearn.model_selection import train_test_split\n",
        "\n",
        "import tensorflow as tf\n",
        "from keras.preprocessing.image import ImageDataGenerator\n",
        "\n",
        "# for confusion matrix\n",
        "%matplotlib inline\n",
        "from sklearn.metrics import confusion_matrix\n",
        "import itertools\n",
        "import matplotlib.pyplot as plt"
      ],
      "execution_count": 2,
      "outputs": [
        {
          "output_type": "stream",
          "text": [
            "Using TensorFlow backend.\n"
          ],
          "name": "stderr"
        }
      ]
    },
    {
      "cell_type": "code",
      "metadata": {
        "id": "NgW26azrpfnj",
        "colab_type": "code",
        "colab": {
          "base_uri": "https://localhost:8080/",
          "height": 51
        },
        "outputId": "1a59f94d-26ec-49e6-b93c-fe6e9c9f280a"
      },
      "source": [
        "from tensorflow.keras import Sequential\n",
        "# from tensorflow.keras.layers import Dense\n",
        "print(tf.test.gpu_device_name())\n",
        "\n",
        "import os\n",
        "if 'COLAB_TPU_ADDR' not in os.environ:\n",
        "    print('Not connected');\n",
        "else:\n",
        "    print('Connected')"
      ],
      "execution_count": 3,
      "outputs": [
        {
          "output_type": "stream",
          "text": [
            "/device:GPU:0\n",
            "Not connected\n"
          ],
          "name": "stdout"
        }
      ]
    },
    {
      "cell_type": "code",
      "metadata": {
        "id": "pSOtnqHOr9ou",
        "colab_type": "code",
        "colab": {}
      },
      "source": [
        "import numpy as np\n",
        "import pandas as pd\n",
        "from sklearn.model_selection import train_test_split\n",
        "\n",
        "import tensorflow as tf"
      ],
      "execution_count": 0,
      "outputs": []
    },
    {
      "cell_type": "code",
      "metadata": {
        "colab_type": "code",
        "id": "86wriHAOxL7z",
        "colab": {}
      },
      "source": [
        "XTrain = np.load('drive/My Drive/classification data/Aug_PCB/s_x_train.npy')\n",
        "YTrain = np.load('drive/My Drive/classification data/Aug_PCB/s_y_train.npy')"
      ],
      "execution_count": 0,
      "outputs": []
    },
    {
      "cell_type": "code",
      "metadata": {
        "id": "dFKvm3qYpNq5",
        "colab_type": "code",
        "colab": {}
      },
      "source": [
        "raw_xtrain = np.load('drive/My Drive/classification data/Raw_PCB/s_x_train.npy')\n",
        "raw_ytrain = np.load('drive/My Drive/classification data/Raw_PCB/s_y_train.npy')"
      ],
      "execution_count": 0,
      "outputs": []
    },
    {
      "cell_type": "code",
      "metadata": {
        "id": "uMkYtHPfGnAv",
        "colab_type": "code",
        "colab": {}
      },
      "source": [
        "bal_xtrain = np.load('drive/My Drive/classification data/Balanced_PCB/xtrain.npy')\n",
        "bal_ytrain = np.load('drive/My Drive/classification data/Balanced_PCB/ytrain.npy')"
      ],
      "execution_count": 0,
      "outputs": []
    },
    {
      "cell_type": "code",
      "metadata": {
        "id": "N-jk8B62pOnw",
        "colab_type": "code",
        "colab": {}
      },
      "source": [
        "raw_xtrain = raw_xtrain/255"
      ],
      "execution_count": 0,
      "outputs": []
    },
    {
      "cell_type": "code",
      "metadata": {
        "id": "GgCXbe1HG1vC",
        "colab_type": "code",
        "colab": {}
      },
      "source": [
        "bal_xtrain = bal_xtrain/255"
      ],
      "execution_count": 0,
      "outputs": []
    },
    {
      "cell_type": "code",
      "metadata": {
        "id": "oAXbFxh-JDeB",
        "colab_type": "code",
        "colab": {
          "base_uri": "https://localhost:8080/",
          "height": 34
        },
        "outputId": "3119fbb6-3744-4d42-cc42-045feeaab972"
      },
      "source": [
        "raw_ytrain.astype(int)"
      ],
      "execution_count": 10,
      "outputs": [
        {
          "output_type": "execute_result",
          "data": {
            "text/plain": [
              "array([0, 0, 0, ..., 1, 1, 1])"
            ]
          },
          "metadata": {
            "tags": []
          },
          "execution_count": 10
        }
      ]
    },
    {
      "cell_type": "code",
      "metadata": {
        "id": "v24eB-2IIyKh",
        "colab_type": "code",
        "colab": {
          "base_uri": "https://localhost:8080/",
          "height": 255
        },
        "outputId": "c528b79b-b7f1-40db-e471-92ac8236e59e"
      },
      "source": [
        "bal_ytrain.astype(int)"
      ],
      "execution_count": 11,
      "outputs": [
        {
          "output_type": "execute_result",
          "data": {
            "text/plain": [
              "array([0, 0, 0, 0, 0, 0, 0, 0, 0, 0, 0, 0, 0, 0, 0, 0, 0, 0, 0, 0, 0, 0,\n",
              "       0, 0, 0, 0, 0, 0, 0, 0, 0, 0, 0, 0, 0, 0, 0, 0, 0, 0, 0, 0, 0, 0,\n",
              "       0, 0, 0, 0, 0, 0, 0, 0, 0, 0, 0, 0, 0, 0, 0, 0, 0, 0, 0, 0, 0, 0,\n",
              "       0, 0, 0, 0, 0, 0, 0, 0, 0, 0, 0, 0, 0, 0, 0, 0, 0, 0, 0, 0, 0, 0,\n",
              "       0, 0, 0, 0, 0, 0, 0, 0, 0, 0, 0, 0, 0, 0, 0, 0, 0, 0, 0, 0, 0, 0,\n",
              "       0, 0, 0, 0, 0, 0, 0, 0, 0, 0, 0, 0, 0, 0, 0, 0, 0, 0, 0, 0, 0, 0,\n",
              "       0, 0, 0, 0, 0, 0, 0, 0, 0, 0, 0, 0, 0, 0, 0, 0, 0, 1, 1, 1, 1, 1,\n",
              "       1, 1, 1, 1, 1, 1, 1, 1, 1, 1, 1, 1, 1, 1, 1, 1, 1, 1, 1, 1, 1, 1,\n",
              "       1, 1, 1, 1, 1, 1, 1, 1, 1, 1, 1, 1, 1, 1, 1, 1, 1, 1, 1, 1, 1, 1,\n",
              "       1, 1, 1, 1, 1, 1, 1, 1, 1, 1, 1, 1, 1, 1, 1, 1, 1, 1, 1, 1, 1, 1,\n",
              "       1, 1, 1, 1, 1, 1, 1, 1, 1, 1, 1, 1, 1, 1, 1, 1, 1, 1, 1, 1, 1, 1,\n",
              "       1, 1, 1, 1, 1, 1, 1, 1, 1, 1, 1, 1, 1, 1, 1, 1, 1, 1, 1, 1, 1, 1,\n",
              "       1, 1, 1, 1, 1, 1, 1, 1, 1, 1, 1, 1, 1, 1, 1, 1, 1, 1, 1, 1, 1, 1,\n",
              "       1, 1, 1, 1, 1, 1, 1, 1, 1, 1, 1, 1])"
            ]
          },
          "metadata": {
            "tags": []
          },
          "execution_count": 11
        }
      ]
    },
    {
      "cell_type": "code",
      "metadata": {
        "id": "xzxK811AD87U",
        "colab_type": "code",
        "colab": {}
      },
      "source": [
        "# r, g, b = np.split(XTrain, 3, 3)\n",
        "# XTrainGray = r * 0.21 + g * 0.72 + b * 0.07\n",
        "# XTrainGray = np.reshape(XTrainGray, (298, 300, 300))\n",
        "# XTrain.shape[0] EDIT"
      ],
      "execution_count": 0,
      "outputs": []
    },
    {
      "cell_type": "code",
      "metadata": {
        "id": "C5YKsISh3cE_",
        "colab_type": "code",
        "colab": {}
      },
      "source": [
        "XTrain, XTest, YTrain, YTest = train_test_split(XTrain, YTrain, test_size=0.1)\n",
        "# print(XTrain.shape) EDIT\n",
        "# print(YTrain.shape) EDIT\n",
        "# print(XTest.shape) EDIT\n",
        "# print(YTest.shape) EDIT"
      ],
      "execution_count": 0,
      "outputs": []
    },
    {
      "cell_type": "code",
      "metadata": {
        "id": "ellP4Tv17cUK",
        "colab_type": "code",
        "colab": {
          "base_uri": "https://localhost:8080/",
          "height": 408
        },
        "outputId": "2cfd005c-9de9-4122-fdd1-6a1dc258b9dc"
      },
      "source": [
        "YTrain.astype(int)\n",
        "YTest.astype(int)"
      ],
      "execution_count": 14,
      "outputs": [
        {
          "output_type": "execute_result",
          "data": {
            "text/plain": [
              "array([1, 1, 1, 1, 0, 0, 0, 0, 1, 0, 0, 1, 1, 0, 0, 0, 1, 0, 1, 0, 0, 1,\n",
              "       0, 1, 0, 0, 0, 0, 1, 0, 1, 0, 0, 1, 0, 1, 1, 0, 1, 1, 0, 1, 0, 1,\n",
              "       1, 0, 1, 0, 0, 1, 0, 0, 0, 1, 1, 1, 1, 0, 1, 0, 0, 0, 0, 1, 0, 0,\n",
              "       0, 1, 1, 1, 1, 1, 0, 1, 0, 1, 1, 1, 0, 1, 1, 0, 1, 1, 1, 1, 1, 1,\n",
              "       1, 1, 1, 1, 1, 1, 0, 0, 0, 0, 1, 1, 1, 1, 0, 1, 1, 0, 0, 1, 0, 0,\n",
              "       0, 0, 1, 1, 0, 1, 1, 1, 1, 1, 0, 0, 0, 0, 0, 1, 1, 0, 1, 1, 0, 0,\n",
              "       1, 0, 1, 0, 1, 0, 1, 0, 0, 0, 0, 0, 0, 1, 1, 1, 1, 1, 0, 0, 1, 1,\n",
              "       1, 1, 1, 0, 1, 1, 1, 0, 1, 0, 1, 1, 1, 1, 1, 1, 0, 1, 1, 1, 0, 0,\n",
              "       0, 0, 0, 0, 1, 1, 0, 0, 0, 1, 0, 0, 0, 0, 1, 0, 0, 0, 0, 0, 0, 1,\n",
              "       1, 1, 1, 1, 1, 1, 1, 0, 1, 0, 1, 0, 1, 0, 0, 1, 1, 1, 1, 1, 0, 1,\n",
              "       0, 1, 1, 0, 0, 0, 0, 0, 0, 0, 1, 0, 0, 1, 1, 1, 0, 0, 1, 0, 1, 1,\n",
              "       0, 1, 1, 1, 1, 1, 0, 0, 1, 1, 1, 0, 1, 1, 1, 1, 0, 0, 0, 1, 1, 1,\n",
              "       0, 1, 0, 1, 0, 1, 1, 1, 1, 1, 0, 1, 0, 0, 1, 0, 1, 1, 0, 1, 0, 1,\n",
              "       0, 0, 1, 1, 0, 1, 0, 0, 0, 0, 0, 0, 0, 0, 0, 0, 1, 0, 0, 1, 0, 1,\n",
              "       0, 0, 0, 0, 1, 1, 1, 1, 1, 0, 0, 1, 0, 1, 0, 1, 0, 1, 1, 0, 0, 0,\n",
              "       1, 0, 1, 1, 1, 1, 0, 0, 0, 1, 0, 0, 1, 0, 1, 0, 0, 0, 1, 0, 0, 1,\n",
              "       0, 0, 1, 0, 0, 0, 1, 1, 0, 0, 1, 1, 1, 0, 0, 1, 0, 0, 1, 1, 0, 0,\n",
              "       0, 1, 1, 0, 0, 0, 0, 1, 1, 1, 0, 0, 1, 1, 1, 1, 0, 1, 0, 1, 0, 0,\n",
              "       1, 0, 1, 1, 0, 1, 0, 1, 1, 1, 1, 1, 0, 1, 1, 1, 1, 1, 0, 1, 0, 0,\n",
              "       0, 0, 0, 1, 0, 0, 1, 1, 0, 1, 1, 0, 1, 1, 1, 1, 0, 1, 0, 0, 0, 0,\n",
              "       1, 0, 0, 1, 1, 1, 1, 1, 1, 1, 1, 1, 0, 1, 0, 1, 0, 1, 1, 0, 1, 0,\n",
              "       0, 0, 1, 0, 0, 0, 1, 0, 1, 1, 1, 1, 1, 0, 0, 0, 1, 1, 1, 0, 0, 1,\n",
              "       0, 0, 1, 0, 1, 1, 1, 0, 0, 0, 0, 1, 0, 0, 1, 1, 1, 0, 1, 1])"
            ]
          },
          "metadata": {
            "tags": []
          },
          "execution_count": 14
        }
      ]
    },
    {
      "cell_type": "code",
      "metadata": {
        "id": "R2kDAXcYUVZe",
        "colab_type": "code",
        "colab": {}
      },
      "source": [
        "\n",
        "# import matplotlib.pyplot as plt\n",
        "# %matplotlib inline\n",
        "# for i in range(1):\n",
        "#     print(XTrainGray[i][100][100])\n",
        "#     plt.figure()\n",
        "#     plt.imshow(XTrainGray[i], cmap='gray', vmin=0, vmax=255)\n",
        "\n",
        "# # for i in range(1):\n",
        "# #     print(XTrainGray[i][100][100])\n",
        "#     plt.figure()\n",
        "#     plt.imshow(XTrainGray[], cmap='gray', vmin=0, vmax=255)"
      ],
      "execution_count": 0,
      "outputs": []
    },
    {
      "cell_type": "code",
      "metadata": {
        "id": "A1Ups-AwM1wU",
        "colab_type": "code",
        "outputId": "1345b44b-254c-4ff2-baeb-24e4323508e5",
        "colab": {
          "base_uri": "https://localhost:8080/",
          "height": 68
        }
      },
      "source": [
        "# TensorFlow and tf.keras\n",
        "print(\"Installing dependencies for Colab environment\")\n",
        "!pip install -Uq grpcio==1.26.0\n",
        "\n",
        "print('Installing TensorFlow')\n",
        "try:\n",
        "  # %tensorflow_version only exists in Colab.\n",
        "  %tensorflow_version 2.x\n",
        "except Exception:\n",
        "  pass\n",
        "import tensorflow as tf\n",
        "from tensorflow import keras\n",
        "\n",
        "# Helper libraries\n",
        "import numpy as np\n",
        "import matplotlib.pyplot as plt\n",
        "import os\n",
        "import subprocess\n",
        "\n",
        "print('TensorFlow version: {}'.format(tf.__version__))"
      ],
      "execution_count": 16,
      "outputs": [
        {
          "output_type": "stream",
          "text": [
            "Installing dependencies for Colab environment\n",
            "Installing TensorFlow\n",
            "TensorFlow version: 2.2.0-rc2\n"
          ],
          "name": "stdout"
        }
      ]
    },
    {
      "cell_type": "code",
      "metadata": {
        "id": "Tyc2bMVaNJGr",
        "colab_type": "code",
        "outputId": "7a46c0e8-71b4-4a32-a4ec-5eb09e5e1339",
        "colab": {
          "base_uri": "https://localhost:8080/",
          "height": 1000
        }
      },
      "source": [
        "# vgg16_model = keras.applications.vgg16.VGG16(input_shape=(300, 300, 3), include_top=False)\n",
        "# vgg16_model.summary()\n",
        "\n",
        "model = keras.Sequential([\n",
        "keras.layers.Conv2D(20, (5,5), input_shape=(300,300,3), activation='relu', padding='same'),\n",
        "keras.layers.MaxPooling2D(pool_size=(2,2), strides=(2,2)),\n",
        "keras.layers.Conv2D(50, (5,5), activation='relu', padding='same'),\n",
        "keras.layers.MaxPooling2D(pool_size=(2,2), strides=(2,2)),\n",
        "keras.layers.Flatten(),\n",
        "keras.layers.Dense(300, activation='relu'),\n",
        "keras.layers.Dense(2, activation='softmax')\n",
        "])\n",
        "\n",
        "model.summary()\n",
        " \n",
        "testing=False\n",
        "\n",
        "# model.summary() EDIT\n",
        "\n",
        "# compile model EDIT\n",
        "# opt = SGD(lr=0.001, momentum=0.9) EDIT\n",
        "# model.compile(optimizer=opt, loss='binary_crossentropy', metrics=['accuracy']) EDIT\n",
        "\n",
        "model.compile(optimizer='adam', \n",
        "              loss='sparse_categorical_crossentropy',\n",
        "              metrics=['accuracy'])\n",
        "model.fit(XTrain, YTrain, batch_size=10, epochs=20)\n",
        "\n",
        "test_loss, test_acc = model.evaluate(XTest, YTest)\n",
        "print('\\nTest accuracy: {}'.format(test_acc))\n"
      ],
      "execution_count": 33,
      "outputs": [
        {
          "output_type": "stream",
          "text": [
            "Model: \"sequential_1\"\n",
            "_________________________________________________________________\n",
            "Layer (type)                 Output Shape              Param #   \n",
            "=================================================================\n",
            "conv2d_2 (Conv2D)            (None, 300, 300, 20)      1520      \n",
            "_________________________________________________________________\n",
            "max_pooling2d_2 (MaxPooling2 (None, 150, 150, 20)      0         \n",
            "_________________________________________________________________\n",
            "conv2d_3 (Conv2D)            (None, 150, 150, 50)      25050     \n",
            "_________________________________________________________________\n",
            "max_pooling2d_3 (MaxPooling2 (None, 75, 75, 50)        0         \n",
            "_________________________________________________________________\n",
            "flatten_1 (Flatten)          (None, 281250)            0         \n",
            "_________________________________________________________________\n",
            "dense_2 (Dense)              (None, 300)               84375300  \n",
            "_________________________________________________________________\n",
            "dense_3 (Dense)              (None, 2)                 602       \n",
            "=================================================================\n",
            "Total params: 84,402,472\n",
            "Trainable params: 84,402,472\n",
            "Non-trainable params: 0\n",
            "_________________________________________________________________\n",
            "Epoch 1/20\n",
            "454/454 [==============================] - 51s 113ms/step - loss: 0.3771 - accuracy: 0.8627\n",
            "Epoch 2/20\n",
            "454/454 [==============================] - 51s 113ms/step - loss: 0.1537 - accuracy: 0.9389\n",
            "Epoch 3/20\n",
            "454/454 [==============================] - 51s 113ms/step - loss: 0.1067 - accuracy: 0.9597\n",
            "Epoch 4/20\n",
            "454/454 [==============================] - 52s 113ms/step - loss: 0.0703 - accuracy: 0.9762\n",
            "Epoch 5/20\n",
            "454/454 [==============================] - 51s 112ms/step - loss: 0.0583 - accuracy: 0.9804\n",
            "Epoch 6/20\n",
            "454/454 [==============================] - 51s 113ms/step - loss: 0.0351 - accuracy: 0.9868\n",
            "Epoch 7/20\n",
            "454/454 [==============================] - 51s 113ms/step - loss: 0.0274 - accuracy: 0.9914\n",
            "Epoch 8/20\n",
            "454/454 [==============================] - 51s 113ms/step - loss: 0.0437 - accuracy: 0.9877\n",
            "Epoch 9/20\n",
            "454/454 [==============================] - 51s 112ms/step - loss: 0.0596 - accuracy: 0.9839\n",
            "Epoch 10/20\n",
            "454/454 [==============================] - 51s 112ms/step - loss: 0.0509 - accuracy: 0.9848\n",
            "Epoch 11/20\n",
            "454/454 [==============================] - 51s 112ms/step - loss: 0.0331 - accuracy: 0.9892\n",
            "Epoch 12/20\n",
            "454/454 [==============================] - 51s 112ms/step - loss: 0.0100 - accuracy: 0.9980\n",
            "Epoch 13/20\n",
            "454/454 [==============================] - 51s 112ms/step - loss: 0.0030 - accuracy: 0.9996\n",
            "Epoch 14/20\n",
            "454/454 [==============================] - 51s 113ms/step - loss: 0.0167 - accuracy: 0.9949\n",
            "Epoch 15/20\n",
            "454/454 [==============================] - 51s 113ms/step - loss: 0.0214 - accuracy: 0.9929\n",
            "Epoch 16/20\n",
            "454/454 [==============================] - 51s 113ms/step - loss: 0.0067 - accuracy: 0.9974\n",
            "Epoch 17/20\n",
            "454/454 [==============================] - 51s 113ms/step - loss: 0.0047 - accuracy: 0.9985\n",
            "Epoch 18/20\n",
            "454/454 [==============================] - 51s 113ms/step - loss: 0.0010 - accuracy: 0.9996\n",
            "Epoch 19/20\n",
            "454/454 [==============================] - 51s 113ms/step - loss: 0.1238 - accuracy: 0.9843\n",
            "Epoch 20/20\n",
            "454/454 [==============================] - 51s 113ms/step - loss: 0.0526 - accuracy: 0.9888\n",
            "16/16 [==============================] - 1s 63ms/step - loss: 0.6795 - accuracy: 0.9583\n",
            "\n",
            "Test accuracy: 0.9583333134651184\n"
          ],
          "name": "stdout"
        }
      ]
    },
    {
      "cell_type": "code",
      "metadata": {
        "id": "iGmNIFaz4MGg",
        "colab_type": "code",
        "colab": {}
      },
      "source": [
        "# prediction = model.predict(XTest) EDIT"
      ],
      "execution_count": 0,
      "outputs": []
    },
    {
      "cell_type": "code",
      "metadata": {
        "id": "PznqE6Kv6O4K",
        "colab_type": "code",
        "colab": {}
      },
      "source": [
        "# for i in range(23): EDIT\n",
        "#     print(prediction[i]) EDIT"
      ],
      "execution_count": 0,
      "outputs": []
    },
    {
      "cell_type": "code",
      "metadata": {
        "id": "mpxC4cPS6ebN",
        "colab_type": "code",
        "colab": {}
      },
      "source": [
        "rounded_prediction = model.predict_classes(XTest, verbose=0)"
      ],
      "execution_count": 0,
      "outputs": []
    },
    {
      "cell_type": "code",
      "metadata": {
        "id": "k4cPDXmp7Wki",
        "colab_type": "code",
        "colab": {}
      },
      "source": [
        "# for i in range(23):  EDIT\n",
        "#     print(rounded_prediction[i]) EDIT\n"
      ],
      "execution_count": 0,
      "outputs": []
    },
    {
      "cell_type": "code",
      "metadata": {
        "id": "SzgFaL-t3GVA",
        "colab_type": "code",
        "colab": {}
      },
      "source": [
        "# list(rounded_prediction[-23:]) EDIT"
      ],
      "execution_count": 0,
      "outputs": []
    },
    {
      "cell_type": "code",
      "metadata": {
        "id": "BbcZNSDv2YOZ",
        "colab_type": "code",
        "colab": {}
      },
      "source": [
        "# print(YTest[0]) EDIT"
      ],
      "execution_count": 0,
      "outputs": []
    },
    {
      "cell_type": "code",
      "metadata": {
        "id": "F-REoJVXKjPd",
        "colab_type": "code",
        "colab": {}
      },
      "source": [
        "%matplotlib inline\n",
        "from sklearn.metrics import confusion_matrix\n",
        "import itertools\n",
        "import matplotlib.pyplot as plt"
      ],
      "execution_count": 0,
      "outputs": []
    },
    {
      "cell_type": "code",
      "metadata": {
        "id": "JW39cbYmK9fr",
        "colab_type": "code",
        "colab": {}
      },
      "source": [
        "cm = confusion_matrix(YTest, rounded_prediction)"
      ],
      "execution_count": 0,
      "outputs": []
    },
    {
      "cell_type": "code",
      "metadata": {
        "id": "SgB5Wv30KZ1X",
        "colab_type": "code",
        "colab": {}
      },
      "source": [
        "def plot_confusion_matrix(cm, classes,\n",
        "                          normalize=False,\n",
        "                          title='Confusion matrix',\n",
        "                          cmap=plt.cm.Blues):\n",
        "    \"\"\"\n",
        "    This function prints and plots the confusion matrix.\n",
        "    Normalization can be applied by setting `normalize=True`.\n",
        "    \"\"\"\n",
        "    plt.imshow(cm, interpolation='nearest', cmap=cmap)\n",
        "    plt.title(title)\n",
        "    plt.colorbar()\n",
        "    tick_marks = np.arange(len(classes))\n",
        "    plt.xticks(tick_marks, classes, rotation=45)\n",
        "    plt.yticks(tick_marks, classes)\n",
        "\n",
        "    if normalize:\n",
        "        cm = cm.astype('float') / cm.sum(axis=1)[:, np.newaxis]\n",
        "        print(\"Normalized confusion matrix\")\n",
        "    else:\n",
        "        print('Confusion matrix, without normalization')\n",
        "\n",
        "    print(cm)\n",
        "\n",
        "    thresh = cm.max() / 2.\n",
        "    for i, j in itertools.product(range(cm.shape[0]), range(cm.shape[1])):\n",
        "        plt.text(j, i, cm[i, j],\n",
        "                 horizontalalignment=\"center\",\n",
        "                 color=\"white\" if cm[i, j] > thresh else \"black\")\n",
        "\n",
        "    plt.tight_layout()\n",
        "    plt.ylabel('True label')\n",
        "    plt.xlabel('Predicted label')"
      ],
      "execution_count": 0,
      "outputs": []
    },
    {
      "cell_type": "code",
      "metadata": {
        "id": "AngQsClfLLcM",
        "colab_type": "code",
        "outputId": "306b7db3-1120-4c0f-d5ea-d9aabff3818c",
        "colab": {
          "base_uri": "https://localhost:8080/",
          "height": 362
        }
      },
      "source": [
        "cm_plot_labels = [\"Defective\", \"Non-Defective\"]\n",
        "plot_confusion_matrix(cm, cm_plot_labels, title=\"Confusion Matrix\")"
      ],
      "execution_count": 42,
      "outputs": [
        {
          "output_type": "stream",
          "text": [
            "Confusion matrix, without normalization\n",
            "[[239   3]\n",
            " [ 18 244]]\n"
          ],
          "name": "stdout"
        },
        {
          "output_type": "display_data",
          "data": {
            "image/png": "[encoded data removed]",
            "text/plain": [
              "<Figure size 432x288 with 2 Axes>"
            ]
          },
          "metadata": {
            "tags": []
          }
        }
      ]
    },
    {
      "cell_type": "code",
      "metadata": {
        "id": "bifypqiXvafT",
        "colab_type": "code",
        "colab": {}
      },
      "source": [
        "raw_rounded_prediction = model.predict_classes(raw_xtrain, verbose=0)"
      ],
      "execution_count": 0,
      "outputs": []
    },
    {
      "cell_type": "code",
      "metadata": {
        "id": "pc6bF3BQvfkS",
        "colab_type": "code",
        "colab": {
          "base_uri": "https://localhost:8080/",
          "height": 362
        },
        "outputId": "d77861e4-3724-454e-b7e1-7a4853e7c18d"
      },
      "source": [
        "raw_cm = confusion_matrix(raw_ytrain, raw_rounded_prediction)\n",
        "raw_cm_plot_labels = [\"Defective\", \"Non-Defective\"]\n",
        "plot_confusion_matrix(raw_cm, raw_cm_plot_labels, title=\"Raw Confusion Matrix\")"
      ],
      "execution_count": 44,
      "outputs": [
        {
          "output_type": "stream",
          "text": [
            "Confusion matrix, without normalization\n",
            "[[ 144    5]\n",
            " [  22 2498]]\n"
          ],
          "name": "stdout"
        },
        {
          "output_type": "display_data",
          "data": {
            "image/png": "[encoded data removed]",
            "text/plain": [
              "<Figure size 432x288 with 2 Axes>"
            ]
          },
          "metadata": {
            "tags": []
          }
        }
      ]
    },
    {
      "cell_type": "code",
      "metadata": {
        "id": "eNnDgRAcvnE1",
        "colab_type": "code",
        "colab": {
          "base_uri": "https://localhost:8080/",
          "height": 68
        },
        "outputId": "8e22d34b-81c0-487f-e634-64756615f0a7"
      },
      "source": [
        "test_loss, test_acc = model.evaluate(raw_xtrain, raw_ytrain)\n",
        "print('\\nTest accuracy: {}'.format(test_acc))"
      ],
      "execution_count": 45,
      "outputs": [
        {
          "output_type": "stream",
          "text": [
            "84/84 [==============================] - 6s 68ms/step - loss: 0.1248 - accuracy: 0.9899\n",
            "\n",
            "Test accuracy: 0.9898838400840759\n"
          ],
          "name": "stdout"
        }
      ]
    },
    {
      "cell_type": "code",
      "metadata": {
        "id": "x4ajpFwMHDEN",
        "colab_type": "code",
        "colab": {}
      },
      "source": [
        "bal_rounded_prediction = model.predict_classes(bal_xtrain, verbose=0)"
      ],
      "execution_count": 0,
      "outputs": []
    },
    {
      "cell_type": "code",
      "metadata": {
        "id": "HJ3sen-THE5i",
        "colab_type": "code",
        "colab": {
          "base_uri": "https://localhost:8080/",
          "height": 362
        },
        "outputId": "28f64670-d03d-420e-8c81-b7d0e41fcb6b"
      },
      "source": [
        "bal_cm = confusion_matrix(bal_ytrain, bal_rounded_prediction)\n",
        "bal_cm_plot_labels = [\"Defective\", \"Non-Defective\"]\n",
        "plot_confusion_matrix(bal_cm, bal_cm_plot_labels, title=\"Balanced Confusion Matrix\")"
      ],
      "execution_count": 47,
      "outputs": [
        {
          "output_type": "stream",
          "text": [
            "Confusion matrix, without normalization\n",
            "[[144   5]\n",
            " [  1 148]]\n"
          ],
          "name": "stdout"
        },
        {
          "output_type": "display_data",
          "data": {
            "image/png": "[encoded data removed]",
            "text/plain": [
              "<Figure size 432x288 with 2 Axes>"
            ]
          },
          "metadata": {
            "tags": []
          }
        }
      ]
    },
    {
      "cell_type": "code",
      "metadata": {
        "id": "dRYOdGviHF1-",
        "colab_type": "code",
        "colab": {
          "base_uri": "https://localhost:8080/",
          "height": 68
        },
        "outputId": "95a1ec4d-3ea2-4d33-b249-2bacf2a83492"
      },
      "source": [
        "test_loss, test_acc = model.evaluate(bal_xtrain, bal_ytrain)\n",
        "print('\\nTest accuracy: {}'.format(test_acc))"
      ],
      "execution_count": 48,
      "outputs": [
        {
          "output_type": "stream",
          "text": [
            "10/10 [==============================] - 1s 57ms/step - loss: 0.2558 - accuracy: 0.9799\n",
            "\n",
            "Test accuracy: 0.9798657894134521\n"
          ],
          "name": "stdout"
        }
      ]
    }
  ]
}