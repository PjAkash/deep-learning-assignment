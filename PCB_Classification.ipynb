{
  "nbformat": 4,
  "nbformat_minor": 0,
  "metadata": {
    "colab": {
      "name": "PCB_Classification.ipynb",
      "provenance": [],
      "collapsed_sections": [],
      "toc_visible": true,
      "machine_shape": "hm"
    },
    "kernelspec": {
      "name": "python3",
      "display_name": "Python 3"
    },
    "accelerator": "GPU"
  },
  "cells": [
    {
      "cell_type": "markdown",
      "metadata": {
        "id": "QYF_GS-oPW6J",
        "colab_type": "text"
      },
      "source": [
        "# **Mounting Drive**"
      ]
    },
    {
      "cell_type": "code",
      "metadata": {
        "id": "aVmS8oe4pLrA",
        "colab_type": "code",
        "outputId": "98b9cdcf-f310-499f-cf49-6ebc5485504a",
        "colab": {
          "base_uri": "https://localhost:8080/",
          "height": 54
        }
      },
      "source": [
        "from google.colab import drive\n",
        "drive.mount('/content/drive')"
      ],
      "execution_count": 1,
      "outputs": [
        {
          "output_type": "stream",
          "text": [
            "Drive already mounted at /content/drive; to attempt to forcibly remount, call drive.mount(\"/content/drive\", force_remount=True).\n"
          ],
          "name": "stdout"
        }
      ]
    },
    {
      "cell_type": "markdown",
      "metadata": {
        "id": "oCrKPv5kQJwi",
        "colab_type": "text"
      },
      "source": [
        "# **Import Dependencies**"
      ]
    },
    {
      "cell_type": "code",
      "metadata": {
        "id": "2mqqCG0qpso0",
        "colab_type": "code",
        "colab": {}
      },
      "source": [
        "import numpy as np\n",
        "import tensorflow as tf\n",
        "from tensorflow import keras\n",
        "from sklearn.model_selection import train_test_split"
      ],
      "execution_count": 0,
      "outputs": []
    },
    {
      "cell_type": "markdown",
      "metadata": {
        "id": "5TdBjS2jQSuJ",
        "colab_type": "text"
      },
      "source": [
        "# **Check for GPU**"
      ]
    },
    {
      "cell_type": "code",
      "metadata": {
        "id": "NgW26azrpfnj",
        "colab_type": "code",
        "outputId": "1da31b1a-d3c4-4876-efe6-3a4e3e14b6f0",
        "colab": {
          "base_uri": "https://localhost:8080/",
          "height": 34
        }
      },
      "source": [
        "print(tf.test.gpu_device_name())"
      ],
      "execution_count": 3,
      "outputs": [
        {
          "output_type": "stream",
          "text": [
            "/device:GPU:0\n"
          ],
          "name": "stdout"
        }
      ]
    },
    {
      "cell_type": "markdown",
      "metadata": {
        "id": "TwGoayarL8M2",
        "colab_type": "text"
      },
      "source": [
        "# **Load Sample Data**"
      ]
    },
    {
      "cell_type": "code",
      "metadata": {
        "colab_type": "code",
        "id": "86wriHAOxL7z",
        "colab": {}
      },
      "source": [
        "XTrain = np.load('drive/My Drive/classification data/Aug_PCB/s_x_train.npy')\n",
        "YTrain = np.load('drive/My Drive/classification data/Aug_PCB/s_y_train.npy')"
      ],
      "execution_count": 0,
      "outputs": []
    },
    {
      "cell_type": "code",
      "metadata": {
        "id": "dFKvm3qYpNq5",
        "colab_type": "code",
        "colab": {}
      },
      "source": [
        "raw_xtrain = np.load('drive/My Drive/classification data/Raw_PCB/s_x_train.npy')\n",
        "raw_ytrain = np.load('drive/My Drive/classification data/Raw_PCB/s_y_train.npy')"
      ],
      "execution_count": 0,
      "outputs": []
    },
    {
      "cell_type": "code",
      "metadata": {
        "id": "uMkYtHPfGnAv",
        "colab_type": "code",
        "colab": {}
      },
      "source": [
        "bal_xtrain = np.load('drive/My Drive/classification data/Balanced_PCB/xtrain.npy')\n",
        "bal_ytrain = np.load('drive/My Drive/classification data/Balanced_PCB/ytrain.npy')"
      ],
      "execution_count": 0,
      "outputs": []
    },
    {
      "cell_type": "markdown",
      "metadata": {
        "id": "LuYdPZCpMxvT",
        "colab_type": "text"
      },
      "source": [
        "# **Data Pre-processing**"
      ]
    },
    {
      "cell_type": "code",
      "metadata": {
        "id": "C5YKsISh3cE_",
        "colab_type": "code",
        "colab": {}
      },
      "source": [
        "XTrain, XTest, YTrain, YTest = train_test_split(XTrain, YTrain, test_size=0.1)"
      ],
      "execution_count": 0,
      "outputs": []
    },
    {
      "cell_type": "code",
      "metadata": {
        "id": "ellP4Tv17cUK",
        "colab_type": "code",
        "outputId": "747e0d41-7549-4b3f-d193-8f6d847bfedd",
        "colab": {
          "base_uri": "https://localhost:8080/",
          "height": 408
        }
      },
      "source": [
        "YTrain.astype(int)\n",
        "YTest.astype(int)"
      ],
      "execution_count": 8,
      "outputs": [
        {
          "output_type": "execute_result",
          "data": {
            "text/plain": [
              "array([1, 1, 0, 1, 0, 1, 0, 0, 0, 0, 0, 0, 1, 0, 1, 1, 1, 0, 0, 0, 1, 1,\n",
              "       1, 0, 1, 1, 0, 0, 1, 0, 0, 0, 0, 1, 1, 1, 1, 1, 1, 1, 1, 1, 0, 1,\n",
              "       1, 1, 0, 1, 1, 0, 0, 1, 1, 1, 1, 1, 1, 1, 0, 0, 1, 0, 0, 0, 1, 1,\n",
              "       1, 1, 1, 0, 1, 0, 1, 1, 1, 0, 0, 0, 1, 0, 1, 0, 1, 1, 1, 1, 0, 1,\n",
              "       0, 0, 0, 1, 0, 0, 0, 1, 1, 0, 0, 1, 1, 0, 0, 0, 1, 1, 1, 0, 0, 0,\n",
              "       0, 1, 0, 1, 1, 0, 0, 1, 1, 1, 1, 0, 1, 1, 0, 0, 0, 0, 1, 0, 0, 1,\n",
              "       1, 1, 1, 1, 1, 1, 0, 0, 0, 0, 0, 0, 0, 0, 0, 1, 0, 0, 1, 0, 1, 0,\n",
              "       0, 0, 0, 0, 1, 0, 0, 0, 1, 1, 1, 0, 0, 1, 0, 0, 0, 1, 0, 1, 1, 0,\n",
              "       1, 0, 0, 1, 0, 0, 1, 1, 1, 0, 0, 1, 1, 1, 1, 1, 0, 1, 1, 0, 0, 1,\n",
              "       1, 0, 1, 1, 1, 0, 0, 1, 1, 0, 1, 1, 0, 1, 1, 1, 0, 1, 1, 1, 1, 1,\n",
              "       0, 0, 1, 1, 0, 0, 1, 1, 0, 0, 0, 0, 1, 0, 1, 0, 0, 0, 1, 0, 1, 1,\n",
              "       0, 1, 1, 0, 0, 1, 1, 0, 1, 0, 0, 1, 1, 1, 1, 0, 1, 1, 0, 0, 0, 0,\n",
              "       1, 1, 0, 0, 0, 1, 1, 1, 1, 0, 1, 1, 0, 1, 0, 1, 1, 1, 0, 1, 1, 0,\n",
              "       1, 0, 0, 1, 0, 1, 0, 1, 1, 1, 0, 0, 0, 0, 1, 1, 1, 1, 1, 0, 0, 1,\n",
              "       1, 1, 1, 0, 1, 0, 1, 0, 0, 1, 0, 1, 0, 0, 0, 1, 0, 1, 0, 0, 0, 0,\n",
              "       0, 0, 1, 1, 0, 1, 0, 1, 0, 0, 0, 1, 0, 0, 0, 0, 0, 0, 0, 1, 0, 0,\n",
              "       0, 1, 1, 1, 0, 1, 0, 1, 0, 0, 0, 0, 1, 1, 1, 1, 0, 0, 1, 1, 1, 0,\n",
              "       0, 0, 1, 0, 0, 1, 1, 0, 0, 0, 1, 1, 0, 1, 1, 0, 0, 0, 1, 0, 0, 0,\n",
              "       0, 0, 0, 0, 1, 1, 1, 0, 0, 1, 0, 0, 0, 0, 1, 0, 1, 0, 0, 1, 0, 1,\n",
              "       1, 0, 0, 1, 0, 1, 0, 1, 0, 1, 0, 0, 0, 1, 0, 0, 1, 0, 0, 0, 1, 0,\n",
              "       1, 1, 1, 0, 1, 1, 0, 1, 1, 0, 0, 1, 1, 1, 1, 1, 1, 0, 1, 1, 0, 1,\n",
              "       0, 0, 0, 1, 1, 1, 0, 0, 0, 0, 0, 1, 0, 1, 1, 0, 1, 1, 0, 0, 0, 1,\n",
              "       1, 1, 1, 1, 0, 1, 0, 1, 0, 1, 1, 0, 0, 1, 0, 1, 0, 0, 0, 1])"
            ]
          },
          "metadata": {
            "tags": []
          },
          "execution_count": 8
        }
      ]
    },
    {
      "cell_type": "code",
      "metadata": {
        "id": "N-jk8B62pOnw",
        "colab_type": "code",
        "colab": {}
      },
      "source": [
        "raw_xtrain = raw_xtrain/255"
      ],
      "execution_count": 0,
      "outputs": []
    },
    {
      "cell_type": "code",
      "metadata": {
        "id": "GgCXbe1HG1vC",
        "colab_type": "code",
        "colab": {}
      },
      "source": [
        "bal_xtrain = bal_xtrain/255"
      ],
      "execution_count": 0,
      "outputs": []
    },
    {
      "cell_type": "code",
      "metadata": {
        "id": "oAXbFxh-JDeB",
        "colab_type": "code",
        "outputId": "42de16a3-eb61-4a31-db6b-caeef8bfac4f",
        "colab": {
          "base_uri": "https://localhost:8080/",
          "height": 34
        }
      },
      "source": [
        "raw_ytrain.astype(int)"
      ],
      "execution_count": 11,
      "outputs": [
        {
          "output_type": "execute_result",
          "data": {
            "text/plain": [
              "array([0, 0, 0, ..., 1, 1, 1])"
            ]
          },
          "metadata": {
            "tags": []
          },
          "execution_count": 11
        }
      ]
    },
    {
      "cell_type": "code",
      "metadata": {
        "id": "v24eB-2IIyKh",
        "colab_type": "code",
        "outputId": "500b86d1-3bca-4ec8-a210-84d155b5885c",
        "colab": {
          "base_uri": "https://localhost:8080/",
          "height": 255
        }
      },
      "source": [
        "bal_ytrain.astype(int)"
      ],
      "execution_count": 12,
      "outputs": [
        {
          "output_type": "execute_result",
          "data": {
            "text/plain": [
              "array([0, 0, 0, 0, 0, 0, 0, 0, 0, 0, 0, 0, 0, 0, 0, 0, 0, 0, 0, 0, 0, 0,\n",
              "       0, 0, 0, 0, 0, 0, 0, 0, 0, 0, 0, 0, 0, 0, 0, 0, 0, 0, 0, 0, 0, 0,\n",
              "       0, 0, 0, 0, 0, 0, 0, 0, 0, 0, 0, 0, 0, 0, 0, 0, 0, 0, 0, 0, 0, 0,\n",
              "       0, 0, 0, 0, 0, 0, 0, 0, 0, 0, 0, 0, 0, 0, 0, 0, 0, 0, 0, 0, 0, 0,\n",
              "       0, 0, 0, 0, 0, 0, 0, 0, 0, 0, 0, 0, 0, 0, 0, 0, 0, 0, 0, 0, 0, 0,\n",
              "       0, 0, 0, 0, 0, 0, 0, 0, 0, 0, 0, 0, 0, 0, 0, 0, 0, 0, 0, 0, 0, 0,\n",
              "       0, 0, 0, 0, 0, 0, 0, 0, 0, 0, 0, 0, 0, 0, 0, 0, 0, 1, 1, 1, 1, 1,\n",
              "       1, 1, 1, 1, 1, 1, 1, 1, 1, 1, 1, 1, 1, 1, 1, 1, 1, 1, 1, 1, 1, 1,\n",
              "       1, 1, 1, 1, 1, 1, 1, 1, 1, 1, 1, 1, 1, 1, 1, 1, 1, 1, 1, 1, 1, 1,\n",
              "       1, 1, 1, 1, 1, 1, 1, 1, 1, 1, 1, 1, 1, 1, 1, 1, 1, 1, 1, 1, 1, 1,\n",
              "       1, 1, 1, 1, 1, 1, 1, 1, 1, 1, 1, 1, 1, 1, 1, 1, 1, 1, 1, 1, 1, 1,\n",
              "       1, 1, 1, 1, 1, 1, 1, 1, 1, 1, 1, 1, 1, 1, 1, 1, 1, 1, 1, 1, 1, 1,\n",
              "       1, 1, 1, 1, 1, 1, 1, 1, 1, 1, 1, 1, 1, 1, 1, 1, 1, 1, 1, 1, 1, 1,\n",
              "       1, 1, 1, 1, 1, 1, 1, 1, 1, 1, 1, 1])"
            ]
          },
          "metadata": {
            "tags": []
          },
          "execution_count": 12
        }
      ]
    },
    {
      "cell_type": "markdown",
      "metadata": {
        "id": "THXUgNUAQcmo",
        "colab_type": "text"
      },
      "source": [
        "# **Model**"
      ]
    },
    {
      "cell_type": "code",
      "metadata": {
        "id": "Tyc2bMVaNJGr",
        "colab_type": "code",
        "outputId": "7f74ff1d-e8e0-4612-c158-d333c085b0d8",
        "colab": {
          "base_uri": "https://localhost:8080/",
          "height": 1000
        }
      },
      "source": [
        "model = keras.Sequential([\n",
        "                             \n",
        "    keras.layers.Conv2D(20, (5,5), input_shape=(300,300,3), activation='relu', padding='same'),\n",
        "    keras.layers.MaxPooling2D(pool_size=(2,2), strides=(2,2)),\n",
        "\n",
        "    keras.layers.Conv2D(50, (5,5), activation='relu', padding='same'),\n",
        "    keras.layers.MaxPooling2D(pool_size=(2,2), strides=(2,2)),\n",
        "\n",
        "    keras.layers.Flatten(),\n",
        "    keras.layers.Dense(300, activation='relu'),\n",
        "    keras.layers.Dense(2, activation='softmax')\n",
        "])\n",
        "\n",
        "model.summary()\n",
        " \n",
        "model.compile(optimizer='adam', loss='sparse_categorical_crossentropy', metrics=['accuracy'])\n",
        "\n",
        "model.fit(XTrain, YTrain, batch_size=10, epochs=20)"
      ],
      "execution_count": 91,
      "outputs": [
        {
          "output_type": "stream",
          "text": [
            "Model: \"sequential_10\"\n",
            "_________________________________________________________________\n",
            "Layer (type)                 Output Shape              Param #   \n",
            "=================================================================\n",
            "conv2d_20 (Conv2D)           (None, 300, 300, 20)      1520      \n",
            "_________________________________________________________________\n",
            "max_pooling2d_20 (MaxPooling (None, 150, 150, 20)      0         \n",
            "_________________________________________________________________\n",
            "conv2d_21 (Conv2D)           (None, 150, 150, 50)      25050     \n",
            "_________________________________________________________________\n",
            "max_pooling2d_21 (MaxPooling (None, 75, 75, 50)        0         \n",
            "_________________________________________________________________\n",
            "flatten_10 (Flatten)         (None, 281250)            0         \n",
            "_________________________________________________________________\n",
            "dense_19 (Dense)             (None, 300)               84375300  \n",
            "_________________________________________________________________\n",
            "dense_20 (Dense)             (None, 2)                 602       \n",
            "=================================================================\n",
            "Total params: 84,402,472\n",
            "Trainable params: 84,402,472\n",
            "Non-trainable params: 0\n",
            "_________________________________________________________________\n",
            "Epoch 1/20\n",
            "454/454 [==============================] - 12s 27ms/step - loss: 0.3924 - accuracy: 0.8682\n",
            "Epoch 2/20\n",
            "454/454 [==============================] - 12s 27ms/step - loss: 0.1464 - accuracy: 0.9469\n",
            "Epoch 3/20\n",
            "454/454 [==============================] - 12s 27ms/step - loss: 0.0880 - accuracy: 0.9649\n",
            "Epoch 4/20\n",
            "454/454 [==============================] - 12s 27ms/step - loss: 0.0682 - accuracy: 0.9753\n",
            "Epoch 5/20\n",
            "454/454 [==============================] - 12s 27ms/step - loss: 0.0435 - accuracy: 0.9843\n",
            "Epoch 6/20\n",
            "454/454 [==============================] - 12s 27ms/step - loss: 0.0633 - accuracy: 0.9810\n",
            "Epoch 7/20\n",
            "454/454 [==============================] - 12s 27ms/step - loss: 0.0209 - accuracy: 0.9936\n",
            "Epoch 8/20\n",
            "454/454 [==============================] - 12s 27ms/step - loss: 0.0228 - accuracy: 0.9934\n",
            "Epoch 9/20\n",
            "454/454 [==============================] - 12s 27ms/step - loss: 0.0237 - accuracy: 0.9945\n",
            "Epoch 10/20\n",
            "454/454 [==============================] - 12s 27ms/step - loss: 0.0290 - accuracy: 0.9923\n",
            "Epoch 11/20\n",
            "454/454 [==============================] - 12s 27ms/step - loss: 0.0358 - accuracy: 0.9932\n",
            "Epoch 12/20\n",
            "454/454 [==============================] - 12s 27ms/step - loss: 0.0237 - accuracy: 0.9960\n",
            "Epoch 13/20\n",
            "454/454 [==============================] - 12s 27ms/step - loss: 0.0261 - accuracy: 0.9940\n",
            "Epoch 14/20\n",
            "454/454 [==============================] - 12s 27ms/step - loss: 0.0367 - accuracy: 0.9938\n",
            "Epoch 15/20\n",
            "454/454 [==============================] - 12s 27ms/step - loss: 0.0198 - accuracy: 0.9956\n",
            "Epoch 16/20\n",
            "454/454 [==============================] - 12s 27ms/step - loss: 0.0054 - accuracy: 0.9980\n",
            "Epoch 17/20\n",
            "454/454 [==============================] - 12s 27ms/step - loss: 0.0035 - accuracy: 0.9991\n",
            "Epoch 18/20\n",
            "454/454 [==============================] - 12s 27ms/step - loss: 0.0111 - accuracy: 0.9976\n",
            "Epoch 19/20\n",
            "454/454 [==============================] - 12s 27ms/step - loss: 0.0048 - accuracy: 0.9989\n",
            "Epoch 20/20\n",
            "454/454 [==============================] - 12s 27ms/step - loss: 0.0111 - accuracy: 0.9987\n"
          ],
          "name": "stdout"
        },
        {
          "output_type": "execute_result",
          "data": {
            "text/plain": [
              "<tensorflow.python.keras.callbacks.History at 0x7f20ee2273c8>"
            ]
          },
          "metadata": {
            "tags": []
          },
          "execution_count": 91
        }
      ]
    },
    {
      "cell_type": "markdown",
      "metadata": {
        "id": "6cpwO4EtQhi7",
        "colab_type": "text"
      },
      "source": [
        "# **Prediction**"
      ]
    },
    {
      "cell_type": "code",
      "metadata": {
        "id": "mpxC4cPS6ebN",
        "colab_type": "code",
        "colab": {}
      },
      "source": [
        "rounded_prediction = model.predict_classes(XTest, verbose=0)"
      ],
      "execution_count": 0,
      "outputs": []
    },
    {
      "cell_type": "code",
      "metadata": {
        "id": "8ud7Lou1Oc46",
        "colab_type": "code",
        "colab": {}
      },
      "source": [
        "raw_rounded_prediction = model.predict_classes(raw_xtrain, verbose=0)"
      ],
      "execution_count": 0,
      "outputs": []
    },
    {
      "cell_type": "code",
      "metadata": {
        "id": "x4ajpFwMHDEN",
        "colab_type": "code",
        "colab": {}
      },
      "source": [
        "bal_rounded_prediction = model.predict_classes(bal_xtrain, verbose=0)"
      ],
      "execution_count": 0,
      "outputs": []
    },
    {
      "cell_type": "markdown",
      "metadata": {
        "id": "Un7f4LMoQp1y",
        "colab_type": "text"
      },
      "source": [
        "# **Dependencies and function to plot confusion matrix**"
      ]
    },
    {
      "cell_type": "code",
      "metadata": {
        "id": "F-REoJVXKjPd",
        "colab_type": "code",
        "colab": {}
      },
      "source": [
        "%matplotlib inline\n",
        "from sklearn.metrics import confusion_matrix\n",
        "import itertools\n",
        "import matplotlib.pyplot as plt"
      ],
      "execution_count": 0,
      "outputs": []
    },
    {
      "cell_type": "code",
      "metadata": {
        "id": "SgB5Wv30KZ1X",
        "colab_type": "code",
        "colab": {}
      },
      "source": [
        "def plot_confusion_matrix(cm, classes,\n",
        "                          normalize=False,\n",
        "                          title='Confusion matrix',\n",
        "                          cmap=plt.cm.Blues):\n",
        "    \"\"\"\n",
        "    This function prints and plots the confusion matrix.\n",
        "    Normalization can be applied by setting `normalize=True`.\n",
        "    \"\"\"\n",
        "    plt.imshow(cm, interpolation='nearest', cmap=cmap)\n",
        "    plt.title(title)\n",
        "    plt.colorbar()\n",
        "    tick_marks = np.arange(len(classes))\n",
        "    plt.xticks(tick_marks, classes, rotation=45)\n",
        "    plt.yticks(tick_marks, classes)\n",
        "\n",
        "    if normalize:\n",
        "        cm = cm.astype('float') / cm.sum(axis=1)[:, np.newaxis]\n",
        "        print(\"Normalized confusion matrix\")\n",
        "    else:\n",
        "        print('Confusion matrix, without normalization')\n",
        "\n",
        "    print(cm)\n",
        "\n",
        "    thresh = cm.max() / 2.\n",
        "    for i, j in itertools.product(range(cm.shape[0]), range(cm.shape[1])):\n",
        "        plt.text(j, i, cm[i, j],\n",
        "                 horizontalalignment=\"center\",\n",
        "                 color=\"white\" if cm[i, j] > thresh else \"black\")\n",
        "\n",
        "    plt.tight_layout()\n",
        "    plt.ylabel('True label')\n",
        "    plt.xlabel('Predicted label')"
      ],
      "execution_count": 0,
      "outputs": []
    },
    {
      "cell_type": "markdown",
      "metadata": {
        "id": "gb2TeI8AQ3eh",
        "colab_type": "text"
      },
      "source": [
        "# **Confusion Matrix and Accuracies for Test Samples**"
      ]
    },
    {
      "cell_type": "code",
      "metadata": {
        "id": "AngQsClfLLcM",
        "colab_type": "code",
        "outputId": "976583e0-b4f4-4cef-8337-ec45bd5b9672",
        "colab": {
          "base_uri": "https://localhost:8080/",
          "height": 413
        }
      },
      "source": [
        "cm = confusion_matrix(YTest, rounded_prediction)\n",
        "cm_plot_labels = [\"Defective\", \"Non-Defective\"]\n",
        "plot_confusion_matrix(cm, cm_plot_labels, title=\"Confusion Matrix\")\n",
        "\n",
        "test_loss, test_acc = model.evaluate(XTest, YTest)\n",
        "print('\\nTest accuracy: {}'.format(test_acc))"
      ],
      "execution_count": 97,
      "outputs": [
        {
          "output_type": "stream",
          "text": [
            "Confusion matrix, without normalization\n",
            "[[249   5]\n",
            " [ 16 234]]\n",
            "16/16 [==============================] - 0s 24ms/step - loss: 0.8082 - accuracy: 0.9583\n",
            "\n",
            "Test accuracy: 0.9583333134651184\n"
          ],
          "name": "stdout"
        },
        {
          "output_type": "display_data",
          "data": {
            "image/png": "[encoded data removed]",
            "text/plain": [
              "<Figure size 432x288 with 2 Axes>"
            ]
          },
          "metadata": {
            "tags": [],
            "needs_background": "light"
          }
        }
      ]
    },
    {
      "cell_type": "code",
      "metadata": {
        "id": "pc6bF3BQvfkS",
        "colab_type": "code",
        "outputId": "294d1d91-8fa8-4084-c99f-a35d7d63fa2a",
        "colab": {
          "base_uri": "https://localhost:8080/",
          "height": 413
        }
      },
      "source": [
        "raw_cm = confusion_matrix(raw_ytrain, raw_rounded_prediction)\n",
        "raw_cm_plot_labels = [\"Defective\", \"Non-Defective\"]\n",
        "plot_confusion_matrix(raw_cm, raw_cm_plot_labels, title=\"Raw Confusion Matrix\")\n",
        "\n",
        "test_loss, test_acc = model.evaluate(raw_xtrain, raw_ytrain)\n",
        "print('\\nTest accuracy: {}'.format(test_acc))"
      ],
      "execution_count": 98,
      "outputs": [
        {
          "output_type": "stream",
          "text": [
            "Confusion matrix, without normalization\n",
            "[[ 142    7]\n",
            " [  17 2503]]\n",
            "84/84 [==============================] - 2s 25ms/step - loss: 0.1560 - accuracy: 0.9910\n",
            "\n",
            "Test accuracy: 0.9910078644752502\n"
          ],
          "name": "stdout"
        },
        {
          "output_type": "display_data",
          "data": {
            "image/png": "[encoded data removed]",
            "text/plain": [
              "<Figure size 432x288 with 2 Axes>"
            ]
          },
          "metadata": {
            "tags": [],
            "needs_background": "light"
          }
        }
      ]
    },
    {
      "cell_type": "code",
      "metadata": {
        "id": "HJ3sen-THE5i",
        "colab_type": "code",
        "outputId": "d6e4cee1-3c1f-4304-b13e-59ed815bd032",
        "colab": {
          "base_uri": "https://localhost:8080/",
          "height": 413
        }
      },
      "source": [
        "bal_cm = confusion_matrix(bal_ytrain, bal_rounded_prediction)\n",
        "bal_cm_plot_labels = [\"Defective\", \"Non-Defective\"]\n",
        "plot_confusion_matrix(bal_cm, bal_cm_plot_labels, title=\"Balanced Confusion Matrix\")\n",
        "\n",
        "test_loss, test_acc = model.evaluate(bal_xtrain, bal_ytrain)\n",
        "print('\\nTest accuracy: {}'.format(test_acc))"
      ],
      "execution_count": 99,
      "outputs": [
        {
          "output_type": "stream",
          "text": [
            "Confusion matrix, without normalization\n",
            "[[142   7]\n",
            " [  1 148]]\n",
            "10/10 [==============================] - 0s 20ms/step - loss: 0.1653 - accuracy: 0.9732\n",
            "\n",
            "Test accuracy: 0.9731543660163879\n"
          ],
          "name": "stdout"
        },
        {
          "output_type": "display_data",
          "data": {
            "image/png": "[encoded data removed]",
            "text/plain": [
              "<Figure size 432x288 with 2 Axes>"
            ]
          },
          "metadata": {
            "tags": [],
            "needs_background": "light"
          }
        }
      ]
    }
  ]
}