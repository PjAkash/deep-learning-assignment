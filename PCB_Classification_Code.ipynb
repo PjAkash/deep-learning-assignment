{
  "nbformat": 4,
  "nbformat_minor": 0,
  "metadata": {
    "colab": {
      "name": "Final_PCB.ipynb",
      "provenance": [],
      "collapsed_sections": [],
      "toc_visible": true,
      "machine_shape": "hm"
    },
    "kernelspec": {
      "name": "python3",
      "display_name": "Python 3"
    },
    "accelerator": "GPU"
  },
  "cells": [
    {
      "cell_type": "markdown",
      "metadata": {
        "id": "QYF_GS-oPW6J",
        "colab_type": "text"
      },
      "source": [
        "# **Mounting Drive**"
      ]
    },
    {
      "cell_type": "code",
      "metadata": {
        "id": "aVmS8oe4pLrA",
        "colab_type": "code",
        "outputId": "ce2b7df2-468d-40c9-c73d-628430fbaf1f",
        "colab": {
          "base_uri": "https://localhost:8080/",
          "height": 54
        }
      },
      "source": [
        "from google.colab import drive\n",
        "drive.mount('/content/drive')"
      ],
      "execution_count": 111,
      "outputs": [
        {
          "output_type": "stream",
          "text": [
            "Drive already mounted at /content/drive; to attempt to forcibly remount, call drive.mount(\"/content/drive\", force_remount=True).\n"
          ],
          "name": "stdout"
        }
      ]
    },
    {
      "cell_type": "markdown",
      "metadata": {
        "id": "oCrKPv5kQJwi",
        "colab_type": "text"
      },
      "source": [
        "# **Import Dependencies**"
      ]
    },
    {
      "cell_type": "code",
      "metadata": {
        "id": "2mqqCG0qpso0",
        "colab_type": "code",
        "colab": {}
      },
      "source": [
        "import numpy as np\n",
        "import tensorflow as tf\n",
        "from tensorflow import keras\n",
        "from sklearn.model_selection import train_test_split"
      ],
      "execution_count": 0,
      "outputs": []
    },
    {
      "cell_type": "markdown",
      "metadata": {
        "id": "5TdBjS2jQSuJ",
        "colab_type": "text"
      },
      "source": [
        "# **Check for GPU**"
      ]
    },
    {
      "cell_type": "code",
      "metadata": {
        "id": "NgW26azrpfnj",
        "colab_type": "code",
        "outputId": "9b0e7e43-1a63-4102-fcb5-98a87cc05e91",
        "colab": {
          "base_uri": "https://localhost:8080/",
          "height": 34
        }
      },
      "source": [
        "print(tf.test.gpu_device_name())"
      ],
      "execution_count": 113,
      "outputs": [
        {
          "output_type": "stream",
          "text": [
            "/device:GPU:0\n"
          ],
          "name": "stdout"
        }
      ]
    },
    {
      "cell_type": "markdown",
      "metadata": {
        "id": "TwGoayarL8M2",
        "colab_type": "text"
      },
      "source": [
        "# **Load Training Data (Aug_PCB) or New Training Data**"
      ]
    },
    {
      "cell_type": "code",
      "metadata": {
        "colab_type": "code",
        "id": "86wriHAOxL7z",
        "colab": {}
      },
      "source": [
        "XTrain = np.load('drive/My Drive/classification data/Aug_PCB/s_x_train.npy')\n",
        "YTrain = np.load('drive/My Drive/classification data/Aug_PCB/s_y_train.npy')"
      ],
      "execution_count": 0,
      "outputs": []
    },
    {
      "cell_type": "markdown",
      "metadata": {
        "id": "ttSf7emZxKWi",
        "colab_type": "text"
      },
      "source": [
        "# **Load Test Data (Raw_PCB) or New Test Data**"
      ]
    },
    {
      "cell_type": "code",
      "metadata": {
        "id": "dFKvm3qYpNq5",
        "colab_type": "code",
        "colab": {}
      },
      "source": [
        "raw_xtrain = np.load('drive/My Drive/classification data/Raw_PCB/s_x_train.npy')\n",
        "raw_ytrain = np.load('drive/My Drive/classification data/Raw_PCB/s_y_train.npy')"
      ],
      "execution_count": 0,
      "outputs": []
    },
    {
      "cell_type": "markdown",
      "metadata": {
        "id": "LuYdPZCpMxvT",
        "colab_type": "text"
      },
      "source": [
        "# **Data Pre-processing**"
      ]
    },
    {
      "cell_type": "code",
      "metadata": {
        "id": "2YemO_1reWSD",
        "colab_type": "code",
        "colab": {}
      },
      "source": [
        "XTrain = XTrain / XTrain.max()\n",
        "raw_xtrain = raw_xtrain / raw_xtrain.max()"
      ],
      "execution_count": 0,
      "outputs": []
    },
    {
      "cell_type": "code",
      "metadata": {
        "id": "ellP4Tv17cUK",
        "colab_type": "code",
        "outputId": "674343ef-7e31-4dea-d68a-5a4f7bf08ba6",
        "colab": {
          "base_uri": "https://localhost:8080/",
          "height": 34
        }
      },
      "source": [
        "YTrain.astype(int)\n",
        "raw_ytrain.astype(int)"
      ],
      "execution_count": 117,
      "outputs": [
        {
          "output_type": "execute_result",
          "data": {
            "text/plain": [
              "array([0, 0, 0, ..., 1, 1, 1])"
            ]
          },
          "metadata": {
            "tags": []
          },
          "execution_count": 117
        }
      ]
    },
    {
      "cell_type": "markdown",
      "metadata": {
        "id": "_6QprzmhwWS_",
        "colab_type": "text"
      },
      "source": [
        "# **Load Already Trained model from zipfile**"
      ]
    },
    {
      "cell_type": "code",
      "metadata": {
        "id": "Qz5DXL2HwkJp",
        "colab_type": "code",
        "colab": {}
      },
      "source": [
        "from keras.models import load_model\n",
        "model = load_model('192CS014_PCB_Classification.h5')"
      ],
      "execution_count": 0,
      "outputs": []
    },
    {
      "cell_type": "markdown",
      "metadata": {
        "id": "THXUgNUAQcmo",
        "colab_type": "text"
      },
      "source": [
        "# **Train the Model on different data set**"
      ]
    },
    {
      "cell_type": "code",
      "metadata": {
        "id": "Tyc2bMVaNJGr",
        "colab_type": "code",
        "colab": {
          "base_uri": "https://localhost:8080/",
          "height": 1000
        },
        "outputId": "b97a9303-157c-462f-98e9-59fee5665a99"
      },
      "source": [
        "model = keras.Sequential([\n",
        "                             \n",
        "    keras.layers.Conv2D(6, (3, 3), input_shape=(300,300,3), activation='tanh', padding='valid'),\n",
        "    keras.layers.AveragePooling2D(pool_size=(2,2), strides=(2,2)),\n",
        "\n",
        "    keras.layers.Conv2D(16, (3, 3), activation='tanh', padding='valid'),\n",
        "    keras.layers.AveragePooling2D(pool_size=(2,2), strides=(2,2)),\n",
        "\n",
        "    keras.layers.Flatten(),\n",
        "    keras.layers.Dense(120, activation='tanh'),\n",
        "    keras.layers.Dense(84, activation='tanh'),\n",
        "    keras.layers.Dense(2, activation='softmax')\n",
        "])\n",
        "\n",
        "model.summary()\n",
        " \n",
        "model.compile(optimizer='SGD', loss='sparse_categorical_crossentropy', metrics=['accuracy'])\n",
        "print(XTrain.shape)\n",
        "print(YTrain.shape)\n",
        "model.fit(XTrain, YTrain, batch_size=10, epochs=20)"
      ],
      "execution_count": 119,
      "outputs": [
        {
          "output_type": "stream",
          "text": [
            "Model: \"sequential_6\"\n",
            "_________________________________________________________________\n",
            "Layer (type)                 Output Shape              Param #   \n",
            "=================================================================\n",
            "conv2d_12 (Conv2D)           (None, 298, 298, 6)       168       \n",
            "_________________________________________________________________\n",
            "average_pooling2d_12 (Averag (None, 149, 149, 6)       0         \n",
            "_________________________________________________________________\n",
            "conv2d_13 (Conv2D)           (None, 147, 147, 16)      880       \n",
            "_________________________________________________________________\n",
            "average_pooling2d_13 (Averag (None, 73, 73, 16)        0         \n",
            "_________________________________________________________________\n",
            "flatten_6 (Flatten)          (None, 85264)             0         \n",
            "_________________________________________________________________\n",
            "dense_14 (Dense)             (None, 120)               10231800  \n",
            "_________________________________________________________________\n",
            "dense_15 (Dense)             (None, 84)                10164     \n",
            "_________________________________________________________________\n",
            "dense_16 (Dense)             (None, 2)                 170       \n",
            "=================================================================\n",
            "Total params: 10,243,182\n",
            "Trainable params: 10,243,182\n",
            "Non-trainable params: 0\n",
            "_________________________________________________________________\n",
            "(5040, 300, 300, 3)\n",
            "(5040,)\n",
            "Epoch 1/20\n",
            "504/504 [==============================] - 10s 20ms/step - loss: 0.4036 - accuracy: 0.8266\n",
            "Epoch 2/20\n",
            "504/504 [==============================] - 10s 20ms/step - loss: 0.2140 - accuracy: 0.9177\n",
            "Epoch 3/20\n",
            "504/504 [==============================] - 10s 20ms/step - loss: 0.1311 - accuracy: 0.9560\n",
            "Epoch 4/20\n",
            "504/504 [==============================] - 10s 20ms/step - loss: 0.0798 - accuracy: 0.9754\n",
            "Epoch 5/20\n",
            "504/504 [==============================] - 10s 20ms/step - loss: 0.0535 - accuracy: 0.9849\n",
            "Epoch 6/20\n",
            "504/504 [==============================] - 10s 20ms/step - loss: 0.0376 - accuracy: 0.9895\n",
            "Epoch 7/20\n",
            "504/504 [==============================] - 10s 20ms/step - loss: 0.0273 - accuracy: 0.9921\n",
            "Epoch 8/20\n",
            "504/504 [==============================] - 10s 20ms/step - loss: 0.0208 - accuracy: 0.9935\n",
            "Epoch 9/20\n",
            "504/504 [==============================] - 10s 20ms/step - loss: 0.0174 - accuracy: 0.9950\n",
            "Epoch 10/20\n",
            "504/504 [==============================] - 10s 20ms/step - loss: 0.0126 - accuracy: 0.9966\n",
            "Epoch 11/20\n",
            "504/504 [==============================] - 10s 21ms/step - loss: 0.0115 - accuracy: 0.9964\n",
            "Epoch 12/20\n",
            "504/504 [==============================] - 10s 20ms/step - loss: 0.0093 - accuracy: 0.9970\n",
            "Epoch 13/20\n",
            "504/504 [==============================] - 10s 20ms/step - loss: 0.0077 - accuracy: 0.9978\n",
            "Epoch 14/20\n",
            "504/504 [==============================] - 10s 20ms/step - loss: 0.0069 - accuracy: 0.9984\n",
            "Epoch 15/20\n",
            "504/504 [==============================] - 10s 20ms/step - loss: 0.0068 - accuracy: 0.9982\n",
            "Epoch 16/20\n",
            "504/504 [==============================] - 10s 20ms/step - loss: 0.0036 - accuracy: 0.9996\n",
            "Epoch 17/20\n",
            "504/504 [==============================] - 10s 20ms/step - loss: 0.0046 - accuracy: 0.9990\n",
            "Epoch 18/20\n",
            "504/504 [==============================] - 10s 20ms/step - loss: 0.0040 - accuracy: 0.9990\n",
            "Epoch 19/20\n",
            "504/504 [==============================] - 10s 21ms/step - loss: 0.0030 - accuracy: 0.9992\n",
            "Epoch 20/20\n",
            "504/504 [==============================] - 10s 20ms/step - loss: 0.0036 - accuracy: 0.9992\n"
          ],
          "name": "stdout"
        },
        {
          "output_type": "execute_result",
          "data": {
            "text/plain": [
              "<tensorflow.python.keras.callbacks.History at 0x7f823cf959e8>"
            ]
          },
          "metadata": {
            "tags": []
          },
          "execution_count": 119
        }
      ]
    },
    {
      "cell_type": "markdown",
      "metadata": {
        "id": "6cpwO4EtQhi7",
        "colab_type": "text"
      },
      "source": [
        "# **Prediction**"
      ]
    },
    {
      "cell_type": "code",
      "metadata": {
        "id": "8ud7Lou1Oc46",
        "colab_type": "code",
        "colab": {}
      },
      "source": [
        "raw_rounded_prediction = model.predict_classes(raw_xtrain, verbose=0)"
      ],
      "execution_count": 0,
      "outputs": []
    },
    {
      "cell_type": "markdown",
      "metadata": {
        "id": "Un7f4LMoQp1y",
        "colab_type": "text"
      },
      "source": [
        "# **Dependencies and function to plot confusion matrix**"
      ]
    },
    {
      "cell_type": "code",
      "metadata": {
        "id": "F-REoJVXKjPd",
        "colab_type": "code",
        "colab": {}
      },
      "source": [
        "%matplotlib inline\n",
        "from sklearn.metrics import confusion_matrix\n",
        "import itertools\n",
        "import matplotlib.pyplot as plt"
      ],
      "execution_count": 0,
      "outputs": []
    },
    {
      "cell_type": "code",
      "metadata": {
        "id": "SgB5Wv30KZ1X",
        "colab_type": "code",
        "colab": {}
      },
      "source": [
        "def plot_confusion_matrix(cm, classes,\n",
        "                          normalize=False,\n",
        "                          title='Confusion matrix',\n",
        "                          cmap=plt.cm.Blues):\n",
        "    \"\"\"\n",
        "    This function prints and plots the confusion matrix.\n",
        "    Normalization can be applied by setting `normalize=True`.\n",
        "    \"\"\"\n",
        "    plt.imshow(cm, interpolation='nearest', cmap=cmap)\n",
        "    plt.title(title)\n",
        "    plt.colorbar()\n",
        "    tick_marks = np.arange(len(classes))\n",
        "    plt.xticks(tick_marks, classes, rotation=45)\n",
        "    plt.yticks(tick_marks, classes)\n",
        "\n",
        "    if normalize:\n",
        "        cm = cm.astype('float') / cm.sum(axis=1)[:, np.newaxis]\n",
        "        print(\"Normalized confusion matrix\")\n",
        "    else:\n",
        "        print('Confusion matrix, without normalization')\n",
        "\n",
        "    print(cm)\n",
        "\n",
        "    thresh = cm.max() / 2.\n",
        "    for i, j in itertools.product(range(cm.shape[0]), range(cm.shape[1])):\n",
        "        plt.text(j, i, cm[i, j],\n",
        "                 horizontalalignment=\"center\",\n",
        "                 color=\"white\" if cm[i, j] > thresh else \"black\")\n",
        "\n",
        "    plt.tight_layout()\n",
        "    plt.ylabel('True label')\n",
        "    plt.xlabel('Predicted label')"
      ],
      "execution_count": 0,
      "outputs": []
    },
    {
      "cell_type": "markdown",
      "metadata": {
        "id": "gb2TeI8AQ3eh",
        "colab_type": "text"
      },
      "source": [
        "# **Confusion Matrix and Accuracies for Test Samples**"
      ]
    },
    {
      "cell_type": "code",
      "metadata": {
        "id": "pc6bF3BQvfkS",
        "colab_type": "code",
        "outputId": "76e4080f-425e-4f64-a761-630564f15fe5",
        "colab": {
          "base_uri": "https://localhost:8080/",
          "height": 413
        }
      },
      "source": [
        "raw_cm = confusion_matrix(raw_ytrain, raw_rounded_prediction)\n",
        "raw_cm_plot_labels = [\"Defective\", \"Non-Defective\"]\n",
        "plot_confusion_matrix(raw_cm, raw_cm_plot_labels, title=\"Raw Confusion Matrix\")\n",
        "\n",
        "test_loss, test_acc = model.evaluate(raw_xtrain, raw_ytrain)\n",
        "print('\\nTest accuracy: {}'.format(test_acc))"
      ],
      "execution_count": 123,
      "outputs": [
        {
          "output_type": "stream",
          "text": [
            "Confusion matrix, without normalization\n",
            "[[ 145    4]\n",
            " [  18 2502]]\n",
            "84/84 [==============================] - 2s 27ms/step - loss: 0.0251 - accuracy: 0.9918\n",
            "\n",
            "Test accuracy: 0.9917572140693665\n"
          ],
          "name": "stdout"
        },
        {
          "output_type": "display_data",
          "data": {
            "image/png": "[encoded data removed]",
            "text/plain": [
              "<Figure size 432x288 with 2 Axes>"
            ]
          },
          "metadata": {
            "tags": [],
            "needs_background": "light"
          }
        }
      ]
    },
    {
      "cell_type": "code",
      "metadata": {
        "id": "EwzdaCyeoDIe",
        "colab_type": "code",
        "colab": {
          "base_uri": "https://localhost:8080/",
          "height": 102
        },
        "outputId": "7653c202-798b-4668-b856-3c926e4da85b"
      },
      "source": [
        "raw_defective_accuracy = (raw_cm[0][0]/(raw_cm[0][0]+raw_cm[0][1]))*100\n",
        "raw_non_defective_accuracy = (raw_cm[1][1]/(raw_cm[1][0]+raw_cm[1][1]))*100\n",
        "print('Accuracy in %')\n",
        "print('\\nDefective accuracy: {}'.format(raw_defective_accuracy))\n",
        "print('\\nNon-Defective accuracy: {}'.format(raw_non_defective_accuracy))"
      ],
      "execution_count": 124,
      "outputs": [
        {
          "output_type": "stream",
          "text": [
            "Accuracy in %\n",
            "\n",
            "Defective accuracy: 97.31543624161074\n",
            "\n",
            "Non-Defective accuracy: 99.28571428571429\n"
          ],
          "name": "stdout"
        }
      ]
    }
  ]
}